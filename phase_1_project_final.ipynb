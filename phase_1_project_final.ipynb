{
 "cells": [
  {
   "cell_type": "markdown",
   "metadata": {},
   "source": [
    "# What Aircraft Should We Purchase?\n",
    "\n",
    "## Darryn J.\n",
    "\n",
    "12/05/2023\n",
    "\n",
    "Instructor : Morgan Jones\n",
    "\n",
    "Blog : [Is Data Science Right For You?](https://datascienceandyou.blogspot.com/2023/12/is-data-science-right-for-you.html)\n",
    "\n",
    "Student Pace : Flex"
   ]
  },
  {
   "cell_type": "markdown",
   "metadata": {},
   "source": [
    "## Business Understanding\n",
    "\n",
    "Using the National Transportaion Safety Boards's (NTSB) data sheet on aircraft incidents, we will look into what aircrafts meet our safety requirements. The Primary requirement we will be looking into is safety. What metrics can we use to determine a safe aircraft? "
   ]
  },
  {
   "cell_type": "markdown",
   "metadata": {},
   "source": [
    "Here, we load in some usefull libraries that will allow us to quickly gather information that would have otherwise taken a large amount of time to produce and evaluate."
   ]
  },
  {
   "cell_type": "code",
   "execution_count": 1,
   "metadata": {},
   "outputs": [],
   "source": [
    "# import needed libraries\n",
    "import pandas as pd\n",
    "import numpy as np\n",
    "import csv\n",
    "import matplotlib.pyplot as plt\n",
    "%matplotlib inline"
   ]
  },
  {
   "cell_type": "markdown",
   "metadata": {},
   "source": [
    "Load in dataset using pandas "
   ]
  },
  {
   "cell_type": "code",
   "execution_count": 2,
   "metadata": {},
   "outputs": [],
   "source": [
    "df1 = pd.read_csv('AviationData.csv', encoding = 'latin_1', low_memory=False)"
   ]
  },
  {
   "cell_type": "code",
   "execution_count": 3,
   "metadata": {},
   "outputs": [
    {
     "data": {
      "text/html": [
       "<div>\n",
       "<style scoped>\n",
       "    .dataframe tbody tr th:only-of-type {\n",
       "        vertical-align: middle;\n",
       "    }\n",
       "\n",
       "    .dataframe tbody tr th {\n",
       "        vertical-align: top;\n",
       "    }\n",
       "\n",
       "    .dataframe thead th {\n",
       "        text-align: right;\n",
       "    }\n",
       "</style>\n",
       "<table border=\"1\" class=\"dataframe\">\n",
       "  <thead>\n",
       "    <tr style=\"text-align: right;\">\n",
       "      <th></th>\n",
       "      <th>Event.Id</th>\n",
       "      <th>Investigation.Type</th>\n",
       "      <th>Accident.Number</th>\n",
       "      <th>Event.Date</th>\n",
       "      <th>Location</th>\n",
       "      <th>Country</th>\n",
       "      <th>Latitude</th>\n",
       "      <th>Longitude</th>\n",
       "      <th>Airport.Code</th>\n",
       "      <th>Airport.Name</th>\n",
       "      <th>...</th>\n",
       "      <th>Purpose.of.flight</th>\n",
       "      <th>Air.carrier</th>\n",
       "      <th>Total.Fatal.Injuries</th>\n",
       "      <th>Total.Serious.Injuries</th>\n",
       "      <th>Total.Minor.Injuries</th>\n",
       "      <th>Total.Uninjured</th>\n",
       "      <th>Weather.Condition</th>\n",
       "      <th>Broad.phase.of.flight</th>\n",
       "      <th>Report.Status</th>\n",
       "      <th>Publication.Date</th>\n",
       "    </tr>\n",
       "  </thead>\n",
       "  <tbody>\n",
       "    <tr>\n",
       "      <th>0</th>\n",
       "      <td>20001218X45444</td>\n",
       "      <td>Accident</td>\n",
       "      <td>SEA87LA080</td>\n",
       "      <td>1948-10-24</td>\n",
       "      <td>MOOSE CREEK, ID</td>\n",
       "      <td>United States</td>\n",
       "      <td>NaN</td>\n",
       "      <td>NaN</td>\n",
       "      <td>NaN</td>\n",
       "      <td>NaN</td>\n",
       "      <td>...</td>\n",
       "      <td>Personal</td>\n",
       "      <td>NaN</td>\n",
       "      <td>2.0</td>\n",
       "      <td>0.0</td>\n",
       "      <td>0.0</td>\n",
       "      <td>0.0</td>\n",
       "      <td>UNK</td>\n",
       "      <td>Cruise</td>\n",
       "      <td>Probable Cause</td>\n",
       "      <td>NaN</td>\n",
       "    </tr>\n",
       "    <tr>\n",
       "      <th>1</th>\n",
       "      <td>20001218X45447</td>\n",
       "      <td>Accident</td>\n",
       "      <td>LAX94LA336</td>\n",
       "      <td>1962-07-19</td>\n",
       "      <td>BRIDGEPORT, CA</td>\n",
       "      <td>United States</td>\n",
       "      <td>NaN</td>\n",
       "      <td>NaN</td>\n",
       "      <td>NaN</td>\n",
       "      <td>NaN</td>\n",
       "      <td>...</td>\n",
       "      <td>Personal</td>\n",
       "      <td>NaN</td>\n",
       "      <td>4.0</td>\n",
       "      <td>0.0</td>\n",
       "      <td>0.0</td>\n",
       "      <td>0.0</td>\n",
       "      <td>UNK</td>\n",
       "      <td>Unknown</td>\n",
       "      <td>Probable Cause</td>\n",
       "      <td>19-09-1996</td>\n",
       "    </tr>\n",
       "    <tr>\n",
       "      <th>2</th>\n",
       "      <td>20061025X01555</td>\n",
       "      <td>Accident</td>\n",
       "      <td>NYC07LA005</td>\n",
       "      <td>1974-08-30</td>\n",
       "      <td>Saltville, VA</td>\n",
       "      <td>United States</td>\n",
       "      <td>36.922223</td>\n",
       "      <td>-81.878056</td>\n",
       "      <td>NaN</td>\n",
       "      <td>NaN</td>\n",
       "      <td>...</td>\n",
       "      <td>Personal</td>\n",
       "      <td>NaN</td>\n",
       "      <td>3.0</td>\n",
       "      <td>NaN</td>\n",
       "      <td>NaN</td>\n",
       "      <td>NaN</td>\n",
       "      <td>IMC</td>\n",
       "      <td>Cruise</td>\n",
       "      <td>Probable Cause</td>\n",
       "      <td>26-02-2007</td>\n",
       "    </tr>\n",
       "    <tr>\n",
       "      <th>3</th>\n",
       "      <td>20001218X45448</td>\n",
       "      <td>Accident</td>\n",
       "      <td>LAX96LA321</td>\n",
       "      <td>1977-06-19</td>\n",
       "      <td>EUREKA, CA</td>\n",
       "      <td>United States</td>\n",
       "      <td>NaN</td>\n",
       "      <td>NaN</td>\n",
       "      <td>NaN</td>\n",
       "      <td>NaN</td>\n",
       "      <td>...</td>\n",
       "      <td>Personal</td>\n",
       "      <td>NaN</td>\n",
       "      <td>2.0</td>\n",
       "      <td>0.0</td>\n",
       "      <td>0.0</td>\n",
       "      <td>0.0</td>\n",
       "      <td>IMC</td>\n",
       "      <td>Cruise</td>\n",
       "      <td>Probable Cause</td>\n",
       "      <td>12-09-2000</td>\n",
       "    </tr>\n",
       "    <tr>\n",
       "      <th>4</th>\n",
       "      <td>20041105X01764</td>\n",
       "      <td>Accident</td>\n",
       "      <td>CHI79FA064</td>\n",
       "      <td>1979-08-02</td>\n",
       "      <td>Canton, OH</td>\n",
       "      <td>United States</td>\n",
       "      <td>NaN</td>\n",
       "      <td>NaN</td>\n",
       "      <td>NaN</td>\n",
       "      <td>NaN</td>\n",
       "      <td>...</td>\n",
       "      <td>Personal</td>\n",
       "      <td>NaN</td>\n",
       "      <td>1.0</td>\n",
       "      <td>2.0</td>\n",
       "      <td>NaN</td>\n",
       "      <td>0.0</td>\n",
       "      <td>VMC</td>\n",
       "      <td>Approach</td>\n",
       "      <td>Probable Cause</td>\n",
       "      <td>16-04-1980</td>\n",
       "    </tr>\n",
       "  </tbody>\n",
       "</table>\n",
       "<p>5 rows × 31 columns</p>\n",
       "</div>"
      ],
      "text/plain": [
       "         Event.Id Investigation.Type Accident.Number  Event.Date  \\\n",
       "0  20001218X45444           Accident      SEA87LA080  1948-10-24   \n",
       "1  20001218X45447           Accident      LAX94LA336  1962-07-19   \n",
       "2  20061025X01555           Accident      NYC07LA005  1974-08-30   \n",
       "3  20001218X45448           Accident      LAX96LA321  1977-06-19   \n",
       "4  20041105X01764           Accident      CHI79FA064  1979-08-02   \n",
       "\n",
       "          Location        Country   Latitude   Longitude Airport.Code  \\\n",
       "0  MOOSE CREEK, ID  United States        NaN         NaN          NaN   \n",
       "1   BRIDGEPORT, CA  United States        NaN         NaN          NaN   \n",
       "2    Saltville, VA  United States  36.922223  -81.878056          NaN   \n",
       "3       EUREKA, CA  United States        NaN         NaN          NaN   \n",
       "4       Canton, OH  United States        NaN         NaN          NaN   \n",
       "\n",
       "  Airport.Name  ... Purpose.of.flight Air.carrier Total.Fatal.Injuries  \\\n",
       "0          NaN  ...          Personal         NaN                  2.0   \n",
       "1          NaN  ...          Personal         NaN                  4.0   \n",
       "2          NaN  ...          Personal         NaN                  3.0   \n",
       "3          NaN  ...          Personal         NaN                  2.0   \n",
       "4          NaN  ...          Personal         NaN                  1.0   \n",
       "\n",
       "  Total.Serious.Injuries Total.Minor.Injuries Total.Uninjured  \\\n",
       "0                    0.0                  0.0             0.0   \n",
       "1                    0.0                  0.0             0.0   \n",
       "2                    NaN                  NaN             NaN   \n",
       "3                    0.0                  0.0             0.0   \n",
       "4                    2.0                  NaN             0.0   \n",
       "\n",
       "  Weather.Condition  Broad.phase.of.flight   Report.Status Publication.Date  \n",
       "0               UNK                 Cruise  Probable Cause              NaN  \n",
       "1               UNK                Unknown  Probable Cause       19-09-1996  \n",
       "2               IMC                 Cruise  Probable Cause       26-02-2007  \n",
       "3               IMC                 Cruise  Probable Cause       12-09-2000  \n",
       "4               VMC               Approach  Probable Cause       16-04-1980  \n",
       "\n",
       "[5 rows x 31 columns]"
      ]
     },
     "execution_count": 3,
     "metadata": {},
     "output_type": "execute_result"
    }
   ],
   "source": [
    "# see what df contains\n",
    "df1.head()"
   ]
  },
  {
   "cell_type": "code",
   "execution_count": 4,
   "metadata": {},
   "outputs": [
    {
     "name": "stdout",
     "output_type": "stream",
     "text": [
      "<class 'pandas.core.frame.DataFrame'>\n",
      "RangeIndex: 88889 entries, 0 to 88888\n",
      "Data columns (total 31 columns):\n",
      " #   Column                  Non-Null Count  Dtype  \n",
      "---  ------                  --------------  -----  \n",
      " 0   Event.Id                88889 non-null  object \n",
      " 1   Investigation.Type      88889 non-null  object \n",
      " 2   Accident.Number         88889 non-null  object \n",
      " 3   Event.Date              88889 non-null  object \n",
      " 4   Location                88837 non-null  object \n",
      " 5   Country                 88663 non-null  object \n",
      " 6   Latitude                34382 non-null  object \n",
      " 7   Longitude               34373 non-null  object \n",
      " 8   Airport.Code            50132 non-null  object \n",
      " 9   Airport.Name            52704 non-null  object \n",
      " 10  Injury.Severity         87889 non-null  object \n",
      " 11  Aircraft.damage         85695 non-null  object \n",
      " 12  Aircraft.Category       32287 non-null  object \n",
      " 13  Registration.Number     87507 non-null  object \n",
      " 14  Make                    88826 non-null  object \n",
      " 15  Model                   88797 non-null  object \n",
      " 16  Amateur.Built           88787 non-null  object \n",
      " 17  Number.of.Engines       82805 non-null  float64\n",
      " 18  Engine.Type             81793 non-null  object \n",
      " 19  FAR.Description         32023 non-null  object \n",
      " 20  Schedule                12582 non-null  object \n",
      " 21  Purpose.of.flight       82697 non-null  object \n",
      " 22  Air.carrier             16648 non-null  object \n",
      " 23  Total.Fatal.Injuries    77488 non-null  float64\n",
      " 24  Total.Serious.Injuries  76379 non-null  float64\n",
      " 25  Total.Minor.Injuries    76956 non-null  float64\n",
      " 26  Total.Uninjured         82977 non-null  float64\n",
      " 27  Weather.Condition       84397 non-null  object \n",
      " 28  Broad.phase.of.flight   61724 non-null  object \n",
      " 29  Report.Status           82505 non-null  object \n",
      " 30  Publication.Date        75118 non-null  object \n",
      "dtypes: float64(5), object(26)\n",
      "memory usage: 21.0+ MB\n"
     ]
    }
   ],
   "source": [
    "df1.info()"
   ]
  },
  {
   "cell_type": "markdown",
   "metadata": {},
   "source": [
    "# Data Distribution"
   ]
  },
  {
   "cell_type": "markdown",
   "metadata": {},
   "source": [
    "Here we take a quick glance at how the data is distributed using fatalities per year."
   ]
  },
  {
   "cell_type": "markdown",
   "metadata": {},
   "source": [
    "Here we convert the `Event.Date` column to a DateTime object so its easier to work with as a date. "
   ]
  },
  {
   "cell_type": "code",
   "execution_count": 5,
   "metadata": {},
   "outputs": [],
   "source": [
    "df1['Event.Date'] = pd.to_datetime(df1['Event.Date'])"
   ]
  },
  {
   "cell_type": "markdown",
   "metadata": {},
   "source": [
    "Adding a `year` column makes it a lot easier to gather information by the year."
   ]
  },
  {
   "cell_type": "code",
   "execution_count": 6,
   "metadata": {
    "scrolled": true
   },
   "outputs": [],
   "source": [
    "df1['year'] = df1['Event.Date'].dt.year"
   ]
  },
  {
   "cell_type": "code",
   "execution_count": 7,
   "metadata": {
    "scrolled": true
   },
   "outputs": [
    {
     "data": {
      "image/png": "[encoded data removed]",
      "text/plain": [
       "<Figure size 432x288 with 1 Axes>"
      ]
     },
     "metadata": {
      "needs_background": "light"
     },
     "output_type": "display_data"
    }
   ],
   "source": [
    "x = df1['year']\n",
    "y = df1['Total.Fatal.Injuries']\n",
    "plt.scatter(x, y)\n",
    "plt.show()"
   ]
  },
  {
   "cell_type": "code",
   "execution_count": 8,
   "metadata": {},
   "outputs": [],
   "source": [
    "# create def to automate finding how many incidents have a specified fatality count\n",
    "\n",
    "def percent_of_fatalities(number):\n",
    "    fatal_list = len(df1[df1['Total.Fatal.Injuries'] == number]) # use only entries with specified fatalities\n",
    "    list_total = len(df1) # count total entries\n",
    "    percent = (fatal_list / list_total) * 100 # devide to find percent\n",
    "    rounded = round(percent, 2) # round\n",
    "    return '{} % of incidents are responable for {} death(s)'.format(rounded, number) # output"
   ]
  },
  {
   "cell_type": "code",
   "execution_count": 9,
   "metadata": {},
   "outputs": [
    {
     "data": {
      "text/plain": [
       "'67.13 % of incidents are responable for 0 death(s)'"
      ]
     },
     "execution_count": 9,
     "metadata": {},
     "output_type": "execute_result"
    }
   ],
   "source": [
    "percent_of_fatalities(0)"
   ]
  },
  {
   "cell_type": "code",
   "execution_count": 10,
   "metadata": {},
   "outputs": [
    {
     "data": {
      "text/plain": [
       "'9.99 % of incidents are responable for 1 death(s)'"
      ]
     },
     "execution_count": 10,
     "metadata": {},
     "output_type": "execute_result"
    }
   ],
   "source": [
    "percent_of_fatalities(1)"
   ]
  },
  {
   "cell_type": "code",
   "execution_count": 11,
   "metadata": {},
   "outputs": [
    {
     "data": {
      "text/plain": [
       "'5.82 % of incidents are responable for 2 death(s)'"
      ]
     },
     "execution_count": 11,
     "metadata": {},
     "output_type": "execute_result"
    }
   ],
   "source": [
    "percent_of_fatalities(2)"
   ]
  },
  {
   "cell_type": "code",
   "execution_count": 12,
   "metadata": {
    "scrolled": true
   },
   "outputs": [
    {
     "data": {
      "text/plain": [
       "'1.79 % of incidents are responable for 3 death(s)'"
      ]
     },
     "execution_count": 12,
     "metadata": {},
     "output_type": "execute_result"
    }
   ],
   "source": [
    "percent_of_fatalities(3)"
   ]
  },
  {
   "cell_type": "markdown",
   "metadata": {},
   "source": [
    "Nearly 80 % of incidents dont have an associated fatality. 1 fatality has the most associated entries, being almost 10 %."
   ]
  },
  {
   "cell_type": "markdown",
   "metadata": {},
   "source": [
    "## Metrics\n",
    "\n",
    "The primary metrics used to narrow down to 3 specific recommendations are as follows -\n",
    "\n",
    "- Engine count\n",
    "    - does adding engines increase safety?\n",
    "- Engine type\n",
    "    - does engine type effect safety?\n",
    "- Purpose of Flight\n",
    "    - what purpose of flight is recommended?"
   ]
  },
  {
   "cell_type": "markdown",
   "metadata": {},
   "source": [
    "## Overview\n",
    "\n",
    "To start off this project i first load in some usefull tools such as `matplotlib` to allow us to create graphs, or `pandas` to help with data cleaning. After this i load in the data set and assign it to `df1`. Here is a quick overview of what takes place in this notebook -\n",
    "\n",
    "- DATA CLEANING\n",
    "\n",
    "    - Standardize the names of some brands to make it easier to work with\n",
    "    - Dealing with `null` values\n",
    "        - remove columns that contains overwhelming missing data\n",
    "        - fill in `null` values with `0` when applicable\n",
    "\n",
    "- DATA MANIPULATION\n",
    "    - Define    \n",
    "        - create several `function`'s to automate data gathering\n",
    "    - Graphs Comparing Brands    \n",
    "        - display graphs to visualize differences between brands\n",
    "    - Engine Type\n",
    "        - how does engine type effect safety\n",
    "    - Purpose of Flight\n",
    "        - does purpose of flight effect safety\n",
    "    - Adding to the Data Frame\n",
    "        - create new columns to hold new information\n",
    "        - create new dataframes that contain narrowed down entries\n",
    "        - merge created dataframes to create a new dataframe \n",
    "    - Engine Count\n",
    "        - does the amount of engines on an aircraft effect safety\n",
    "    - Narrowing Down\n",
    "        - remove entries that are not airplanes and remove amateur built aircraft\n",
    "        - look into entries that the aircraft has more than one engine\n",
    "- DICTIONARY\n",
    "    - information on each recommendation is stored in a dictionary for easy access\n",
    "- METRICS RESULTS\n",
    "    - Engine type\n",
    "    - Purpose of Flight\n",
    "    - Engine Count\n",
    "- CONCLUSION\n",
    "    - results from data gathering and minipulation    "
   ]
  },
  {
   "cell_type": "markdown",
   "metadata": {},
   "source": [
    "# Data Cleaning"
   ]
  },
  {
   "cell_type": "markdown",
   "metadata": {},
   "source": [
    "## Standardization"
   ]
  },
  {
   "cell_type": "markdown",
   "metadata": {},
   "source": [
    "A data set that contains many different names for the same variable, i.e. 'Boeing' and 'BOEING', can be very difficult to work with. This next code block standardizes a few of the brand names to make for easier data gathering."
   ]
  },
  {
   "cell_type": "code",
   "execution_count": 13,
   "metadata": {},
   "outputs": [],
   "source": [
    "# standardize names \n",
    "df1['Make'] = df1['Make'].replace({'BOEING' : 'Boeing'})\n",
    "df1['Make'] = df1['Make'].replace({'BOEING COMPANY' : 'Boeing'})\n",
    "df1['Make'] = df1['Make'].replace({'Airbus Industrie' : 'AIRBUS'})\n",
    "df1['Make'] = df1['Make'].replace({'AIRBUS INDUSTRIE' : 'AIRBUS'})\n",
    "df1['Make'] = df1['Make'].replace({'AIRBUS' : 'Airbus'})\n",
    "df1['Make'] = df1['Make'].replace({'CESSNA AIRCRAFT COMPANY' : 'CESSNA'})\n",
    "df1['Make'] = df1['Make'].replace({'CESSNA' : 'Cessna'})\n",
    "df1['Make'] = df1['Make'].replace({'EMBRAER' : 'Embraer'})\n",
    "df1['Make'] = df1['Make'].replace({'PIPER' : 'Piper'})\n",
    "df1['Make'] = df1['Make'].replace({'BOMBARDIER INC' : 'BOMBARDIER'})\n",
    "df1['Make'] = df1['Make'].replace({'BOMBARDIER' : 'Bombardier'})"
   ]
  },
  {
   "cell_type": "markdown",
   "metadata": {},
   "source": [
    "## Dealing With Null Values"
   ]
  },
  {
   "cell_type": "markdown",
   "metadata": {},
   "source": [
    "Here we start looking into what columns contain `null` values. These are important to deal with early on as these can trip up code. Some `null` values are best to be removed, as seen here with the `schedule` column, due to overwhelming missing data. Others, as shown later in the notebook, can simply be replaced with a `0`, as removing the column may be harmful to the overall data collection.  "
   ]
  },
  {
   "cell_type": "code",
   "execution_count": 14,
   "metadata": {
    "scrolled": false
   },
   "outputs": [
    {
     "data": {
      "text/plain": [
       "Event.Id                      0\n",
       "Investigation.Type            0\n",
       "Accident.Number               0\n",
       "Event.Date                    0\n",
       "Location                     52\n",
       "Country                     226\n",
       "Latitude                  54507\n",
       "Longitude                 54516\n",
       "Airport.Code              38757\n",
       "Airport.Name              36185\n",
       "Injury.Severity            1000\n",
       "Aircraft.damage            3194\n",
       "Aircraft.Category         56602\n",
       "Registration.Number        1382\n",
       "Make                         63\n",
       "Model                        92\n",
       "Amateur.Built               102\n",
       "Number.of.Engines          6084\n",
       "Engine.Type                7096\n",
       "FAR.Description           56866\n",
       "Schedule                  76307\n",
       "Purpose.of.flight          6192\n",
       "Air.carrier               72241\n",
       "Total.Fatal.Injuries      11401\n",
       "Total.Serious.Injuries    12510\n",
       "Total.Minor.Injuries      11933\n",
       "Total.Uninjured            5912\n",
       "Weather.Condition          4492\n",
       "Broad.phase.of.flight     27165\n",
       "Report.Status              6384\n",
       "Publication.Date          13771\n",
       "year                          0\n",
       "dtype: int64"
      ]
     },
     "execution_count": 14,
     "metadata": {},
     "output_type": "execute_result"
    }
   ],
   "source": [
    "# check exact values for null\n",
    "df1.isna().sum()"
   ]
  },
  {
   "cell_type": "code",
   "execution_count": 15,
   "metadata": {},
   "outputs": [
    {
     "data": {
      "text/plain": [
       "0        NaN\n",
       "1        NaN\n",
       "2        NaN\n",
       "3        NaN\n",
       "4        NaN\n",
       "        ... \n",
       "88884    NaN\n",
       "88885    NaN\n",
       "88886    NaN\n",
       "88887    NaN\n",
       "88888    NaN\n",
       "Name: Schedule, Length: 88889, dtype: object"
      ]
     },
     "execution_count": 15,
     "metadata": {},
     "output_type": "execute_result"
    }
   ],
   "source": [
    "df1['Schedule']"
   ]
  },
  {
   "cell_type": "code",
   "execution_count": 16,
   "metadata": {
    "scrolled": true
   },
   "outputs": [],
   "source": [
    "df1 = df1.drop(['Schedule'], axis = 1)"
   ]
  },
  {
   "cell_type": "markdown",
   "metadata": {},
   "source": [
    "As mentioned above, sometimes its better to replace a `null` value with a `0`. This was done to allow a code block to add together all injuries and fatalities on a given incident and create a new column with the output. If the value was left as `null`, an error would arise."
   ]
  },
  {
   "cell_type": "code",
   "execution_count": 17,
   "metadata": {
    "scrolled": true
   },
   "outputs": [
    {
     "data": {
      "text/html": [
       "<div>\n",
       "<style scoped>\n",
       "    .dataframe tbody tr th:only-of-type {\n",
       "        vertical-align: middle;\n",
       "    }\n",
       "\n",
       "    .dataframe tbody tr th {\n",
       "        vertical-align: top;\n",
       "    }\n",
       "\n",
       "    .dataframe thead th {\n",
       "        text-align: right;\n",
       "    }\n",
       "</style>\n",
       "<table border=\"1\" class=\"dataframe\">\n",
       "  <thead>\n",
       "    <tr style=\"text-align: right;\">\n",
       "      <th></th>\n",
       "      <th>Event.Id</th>\n",
       "      <th>Investigation.Type</th>\n",
       "      <th>Accident.Number</th>\n",
       "      <th>Event.Date</th>\n",
       "      <th>Location</th>\n",
       "      <th>Country</th>\n",
       "      <th>Latitude</th>\n",
       "      <th>Longitude</th>\n",
       "      <th>Airport.Code</th>\n",
       "      <th>Airport.Name</th>\n",
       "      <th>...</th>\n",
       "      <th>Air.carrier</th>\n",
       "      <th>Total.Fatal.Injuries</th>\n",
       "      <th>Total.Serious.Injuries</th>\n",
       "      <th>Total.Minor.Injuries</th>\n",
       "      <th>Total.Uninjured</th>\n",
       "      <th>Weather.Condition</th>\n",
       "      <th>Broad.phase.of.flight</th>\n",
       "      <th>Report.Status</th>\n",
       "      <th>Publication.Date</th>\n",
       "      <th>year</th>\n",
       "    </tr>\n",
       "  </thead>\n",
       "  <tbody>\n",
       "    <tr>\n",
       "      <th>0</th>\n",
       "      <td>20001218X45444</td>\n",
       "      <td>Accident</td>\n",
       "      <td>SEA87LA080</td>\n",
       "      <td>1948-10-24</td>\n",
       "      <td>MOOSE CREEK, ID</td>\n",
       "      <td>United States</td>\n",
       "      <td>NaN</td>\n",
       "      <td>NaN</td>\n",
       "      <td>NaN</td>\n",
       "      <td>NaN</td>\n",
       "      <td>...</td>\n",
       "      <td>NaN</td>\n",
       "      <td>2.0</td>\n",
       "      <td>0.0</td>\n",
       "      <td>0.0</td>\n",
       "      <td>0.0</td>\n",
       "      <td>UNK</td>\n",
       "      <td>Cruise</td>\n",
       "      <td>Probable Cause</td>\n",
       "      <td>NaN</td>\n",
       "      <td>1948</td>\n",
       "    </tr>\n",
       "    <tr>\n",
       "      <th>1</th>\n",
       "      <td>20001218X45447</td>\n",
       "      <td>Accident</td>\n",
       "      <td>LAX94LA336</td>\n",
       "      <td>1962-07-19</td>\n",
       "      <td>BRIDGEPORT, CA</td>\n",
       "      <td>United States</td>\n",
       "      <td>NaN</td>\n",
       "      <td>NaN</td>\n",
       "      <td>NaN</td>\n",
       "      <td>NaN</td>\n",
       "      <td>...</td>\n",
       "      <td>NaN</td>\n",
       "      <td>4.0</td>\n",
       "      <td>0.0</td>\n",
       "      <td>0.0</td>\n",
       "      <td>0.0</td>\n",
       "      <td>UNK</td>\n",
       "      <td>Unknown</td>\n",
       "      <td>Probable Cause</td>\n",
       "      <td>19-09-1996</td>\n",
       "      <td>1962</td>\n",
       "    </tr>\n",
       "    <tr>\n",
       "      <th>2</th>\n",
       "      <td>20061025X01555</td>\n",
       "      <td>Accident</td>\n",
       "      <td>NYC07LA005</td>\n",
       "      <td>1974-08-30</td>\n",
       "      <td>Saltville, VA</td>\n",
       "      <td>United States</td>\n",
       "      <td>36.922223</td>\n",
       "      <td>-81.878056</td>\n",
       "      <td>NaN</td>\n",
       "      <td>NaN</td>\n",
       "      <td>...</td>\n",
       "      <td>NaN</td>\n",
       "      <td>3.0</td>\n",
       "      <td>0.0</td>\n",
       "      <td>0.0</td>\n",
       "      <td>NaN</td>\n",
       "      <td>IMC</td>\n",
       "      <td>Cruise</td>\n",
       "      <td>Probable Cause</td>\n",
       "      <td>26-02-2007</td>\n",
       "      <td>1974</td>\n",
       "    </tr>\n",
       "    <tr>\n",
       "      <th>3</th>\n",
       "      <td>20001218X45448</td>\n",
       "      <td>Accident</td>\n",
       "      <td>LAX96LA321</td>\n",
       "      <td>1977-06-19</td>\n",
       "      <td>EUREKA, CA</td>\n",
       "      <td>United States</td>\n",
       "      <td>NaN</td>\n",
       "      <td>NaN</td>\n",
       "      <td>NaN</td>\n",
       "      <td>NaN</td>\n",
       "      <td>...</td>\n",
       "      <td>NaN</td>\n",
       "      <td>2.0</td>\n",
       "      <td>0.0</td>\n",
       "      <td>0.0</td>\n",
       "      <td>0.0</td>\n",
       "      <td>IMC</td>\n",
       "      <td>Cruise</td>\n",
       "      <td>Probable Cause</td>\n",
       "      <td>12-09-2000</td>\n",
       "      <td>1977</td>\n",
       "    </tr>\n",
       "    <tr>\n",
       "      <th>4</th>\n",
       "      <td>20041105X01764</td>\n",
       "      <td>Accident</td>\n",
       "      <td>CHI79FA064</td>\n",
       "      <td>1979-08-02</td>\n",
       "      <td>Canton, OH</td>\n",
       "      <td>United States</td>\n",
       "      <td>NaN</td>\n",
       "      <td>NaN</td>\n",
       "      <td>NaN</td>\n",
       "      <td>NaN</td>\n",
       "      <td>...</td>\n",
       "      <td>NaN</td>\n",
       "      <td>1.0</td>\n",
       "      <td>2.0</td>\n",
       "      <td>0.0</td>\n",
       "      <td>0.0</td>\n",
       "      <td>VMC</td>\n",
       "      <td>Approach</td>\n",
       "      <td>Probable Cause</td>\n",
       "      <td>16-04-1980</td>\n",
       "      <td>1979</td>\n",
       "    </tr>\n",
       "  </tbody>\n",
       "</table>\n",
       "<p>5 rows × 31 columns</p>\n",
       "</div>"
      ],
      "text/plain": [
       "         Event.Id Investigation.Type Accident.Number Event.Date  \\\n",
       "0  20001218X45444           Accident      SEA87LA080 1948-10-24   \n",
       "1  20001218X45447           Accident      LAX94LA336 1962-07-19   \n",
       "2  20061025X01555           Accident      NYC07LA005 1974-08-30   \n",
       "3  20001218X45448           Accident      LAX96LA321 1977-06-19   \n",
       "4  20041105X01764           Accident      CHI79FA064 1979-08-02   \n",
       "\n",
       "          Location        Country   Latitude   Longitude Airport.Code  \\\n",
       "0  MOOSE CREEK, ID  United States        NaN         NaN          NaN   \n",
       "1   BRIDGEPORT, CA  United States        NaN         NaN          NaN   \n",
       "2    Saltville, VA  United States  36.922223  -81.878056          NaN   \n",
       "3       EUREKA, CA  United States        NaN         NaN          NaN   \n",
       "4       Canton, OH  United States        NaN         NaN          NaN   \n",
       "\n",
       "  Airport.Name  ... Air.carrier Total.Fatal.Injuries Total.Serious.Injuries  \\\n",
       "0          NaN  ...         NaN                  2.0                    0.0   \n",
       "1          NaN  ...         NaN                  4.0                    0.0   \n",
       "2          NaN  ...         NaN                  3.0                    0.0   \n",
       "3          NaN  ...         NaN                  2.0                    0.0   \n",
       "4          NaN  ...         NaN                  1.0                    2.0   \n",
       "\n",
       "  Total.Minor.Injuries Total.Uninjured Weather.Condition  \\\n",
       "0                  0.0             0.0               UNK   \n",
       "1                  0.0             0.0               UNK   \n",
       "2                  0.0             NaN               IMC   \n",
       "3                  0.0             0.0               IMC   \n",
       "4                  0.0             0.0               VMC   \n",
       "\n",
       "  Broad.phase.of.flight   Report.Status Publication.Date  year  \n",
       "0                Cruise  Probable Cause              NaN  1948  \n",
       "1               Unknown  Probable Cause       19-09-1996  1962  \n",
       "2                Cruise  Probable Cause       26-02-2007  1974  \n",
       "3                Cruise  Probable Cause       12-09-2000  1977  \n",
       "4              Approach  Probable Cause       16-04-1980  1979  \n",
       "\n",
       "[5 rows x 31 columns]"
      ]
     },
     "execution_count": 17,
     "metadata": {},
     "output_type": "execute_result"
    }
   ],
   "source": [
    "df1['Total.Fatal.Injuries'].fillna(0.0, inplace = True)\n",
    "df1['Total.Serious.Injuries'].fillna(0.0, inplace = True)\n",
    "df1['Total.Minor.Injuries'].fillna(0.0, inplace = True)\n",
    "df1.head()"
   ]
  },
  {
   "cell_type": "markdown",
   "metadata": {},
   "source": [
    "# Data Manipulation"
   ]
  },
  {
   "cell_type": "markdown",
   "metadata": {},
   "source": [
    "## Define"
   ]
  },
  {
   "cell_type": "markdown",
   "metadata": {},
   "source": [
    "Here we use a `def` or define, to create several code blocks that automatically exicute several lines of code when given specific information. These are called `functions`. This is done to gather information for several variables without re-writting the code each time. These `functions` gather this information -\n",
    "\n",
    "- `engine_percent`\n",
    "    - does engine type effect incident rate, and if so, what percent caused a fatality?\n",
    "- `engine_type_percent`\n",
    "    - how many entries is a specified engine type associated with?\n",
    "- `engine_count`\n",
    "    - how many incidents involve a (1, 2, 3, etc..) engine aircraft?\n",
    "- `Find_percent`\n",
    "    - what percent of fatalities does a specified make account for? \n",
    "- `find_death_per_crash`\n",
    "    - how many incidents involving this make result in a falality?\n",
    "- `incident_count`\n",
    "    - what percent of incidents does a specific make account for? \n",
    "- `purpose_percent`\n",
    "    - what percent of entries is associated with a specified purpose of flight?\n",
    "- `p_flight_fatal_count`\n",
    "    - how many deaths is a specified purpose of flight associated with?\n",
    "- `percent_of_fatalites`\n",
    "    - what percent of incidnets has a specified amount of fatalities?\n",
    "- `engine_fatality`\n",
    "    - what percent of each engine type is responsable for 1 or more fatality?"
   ]
  },
  {
   "cell_type": "code",
   "execution_count": 18,
   "metadata": {},
   "outputs": [],
   "source": [
    "# create def to gather fatalities based on engine type\n",
    "\n",
    "def engine_percent(engine_type):\n",
    "    engine_list = df1[df1['Engine.Type'] == engine_type] # only use entries with engine type\n",
    "    fatal_count = len(engine_list[engine_list['Total.Fatal.Injuries'] >= 1]) # count entries with more than one fatality\n",
    "    total_count = len(engine_list) # count entries in list\n",
    "    percent = (fatal_count / total_count) * 100 # devide to find percent\n",
    "    rounded = round(percent, 2) # round number\n",
    "    return 'out of {} incidents involving {} engines, {} % had at least 1 fatality'.format(total_count, engine_type, rounded) # output"
   ]
  },
  {
   "cell_type": "code",
   "execution_count": 19,
   "metadata": {},
   "outputs": [],
   "source": [
    "# create def to automate finding how many entries each engine type is associated with\n",
    "\n",
    "def engine_type_percent(engine_type):\n",
    "    engine_list = len(df1[df1['Engine.Type'] == engine_type]) # only count entries associated with specified engine type\n",
    "    total_count = len(df1) # couunt total entries\n",
    "    percent = (engine_list / total_count) * 100 # devide to find percent\n",
    "    rounded = round(percent, 2) # round\n",
    "    return 'out of {} entries, {} is responable for {} ({} %) of entries'.format(total_count, engine_type, engine_list, rounded) # output"
   ]
  },
  {
   "cell_type": "code",
   "execution_count": 20,
   "metadata": {},
   "outputs": [],
   "source": [
    "# create def to gather percentage of each engine count\n",
    "\n",
    "def engine_count(count):\n",
    "    count_list = len(df1[df1['Number.of.Engines'] == count]) # only use specific engine count\n",
    "    engine_total = len(df1['Number.of.Engines']) # total count \n",
    "    percent = (count_list / engine_total) * 100 # devide to find percent\n",
    "    rounded = round(percent, 2) # round number\n",
    "    return '{} engine airplanes are {} % of incidents'.format(count,rounded) # output"
   ]
  },
  {
   "cell_type": "code",
   "execution_count": 21,
   "metadata": {},
   "outputs": [],
   "source": [
    "# create def to automate gathering the percentage of deaths per make vs total deaths of all crashes\n",
    "\n",
    "def find_percent(make):\n",
    "    make_list = df1[df1['Make'] == make] # only use specific make\n",
    "    make_total = make_list['Total.Fatal.Injuries'].sum() # sum injuries for make\n",
    "    total_fatal = df1['Total.Fatal.Injuries'].sum() # sum injuries for all entries\n",
    "    percent = (make_total / total_fatal) * 100 # devide to find percent\n",
    "    rounded = round(percent, 2) # round number\n",
    "    return '{} % of total deaths'.format(rounded) # output    "
   ]
  },
  {
   "cell_type": "code",
   "execution_count": 22,
   "metadata": {},
   "outputs": [],
   "source": [
    "# create def to automate gathering deaths vs total crashes per make\n",
    "\n",
    "def find_death_per_crash(make):\n",
    "    make_list = df1[df1['Make'] == make] # only use specific make\n",
    "    make_total = len(make_list.loc[make_list['Total.Fatal.Injuries'] >= 1]) # count entries of specific make\n",
    "    total_fatal = len(df1.loc[df1['Total.Fatal.Injuries'] >= 1]) # count total enties greater then one\n",
    "    percent = (make_total / total_fatal) * 100 # devide to find percent\n",
    "    rounded = round(percent, 2) # round number\n",
    "    return '{} % of incidents result in at least 1 death'.format(rounded) # output"
   ]
  },
  {
   "cell_type": "code",
   "execution_count": 23,
   "metadata": {},
   "outputs": [],
   "source": [
    "# create def to count specific make incidnet count vs total incident count\n",
    "\n",
    "def incident_count(make):\n",
    "    make_list = df1[df1['Make'] == make] # only use specific make\n",
    "    make_total = len(make_list) # count incident entries\n",
    "    df_total = len(df1) # total entries for entire df\n",
    "    percent = (make_total / df_total) * 100 # devide to find percent\n",
    "    rounded = round(percent, 2) # round number\n",
    "    return 'out of {} entries, {} is {} % ({}) of entries'.format(df_total, make, rounded, make_total) # output\n",
    "    "
   ]
  },
  {
   "cell_type": "code",
   "execution_count": 24,
   "metadata": {},
   "outputs": [],
   "source": [
    "# create def to automate finding the percent of entries for each purpose of flight\n",
    "\n",
    "def purpose_percent(purpose):\n",
    "    p_list = len(df1[df1['Purpose.of.flight'] == purpose]) # count amount of specified purpose\n",
    "    p_total = len(df1) # total entries in dataframe\n",
    "    percent = (p_list / p_total) * 100 # devide to find percent\n",
    "    rounded = round(percent, 2) # round number\n",
    "    return '{} flights are {} % of reported incidents'.format(purpose, rounded) # output"
   ]
  },
  {
   "cell_type": "code",
   "execution_count": 25,
   "metadata": {},
   "outputs": [],
   "source": [
    "# create def to automate finding how many deaths a specific purpose of flight is responsable for\n",
    "\n",
    "def p_flight_fatal_count(purpose):\n",
    "    purpose_list = df1[df1['Purpose.of.flight'] == purpose] # use only entries with specifies purpose\n",
    "    fatal_total = purpose_list['Total.Fatal.Injuries'].value_counts().sum() # sum fatalities \n",
    "    return '{} flights are responsable for {} death(s)'.format(purpose, fatal_total) # output"
   ]
  },
  {
   "cell_type": "code",
   "execution_count": 26,
   "metadata": {},
   "outputs": [],
   "source": [
    "# create def to automate finding how many incidents have a specified fatality count\n",
    "\n",
    "def percent_of_fatalities(number):\n",
    "    fatal_list = len(df1[df1['Total.Fatal.Injuries'] == number]) # use only entries with specified fatalities\n",
    "    list_total = len(df1) # count total entries\n",
    "    percent = (fatal_list / list_total) * 100 # devide to find percent\n",
    "    rounded = round(percent, 2) # round\n",
    "    return '{} % of incidents are responable for {} death(s)'.format(rounded, number) # output"
   ]
  },
  {
   "cell_type": "code",
   "execution_count": 27,
   "metadata": {},
   "outputs": [],
   "source": [
    "# create def to find what percent of each engine count is responable for 1 or more fatality \n",
    "\n",
    "def engine_fatality(count):\n",
    "    engine_list = df1[df1['Number.of.Engines'] == count] # create df with only specified engine count\n",
    "    engine_total = len(df1[df1['Number.of.Engines'] == count]) # count entries in engine_list\n",
    "    fatality_list = engine_list[engine_list['Total.Fatal.Injuries'] >= 1] # create df with specified engine count and only contains 1 or more fatality \n",
    "    fatality_total = len(fatality_list) # count entries in fatality_list\n",
    "    percent = (fatality_total / engine_total) * 100 # devide to get percent\n",
    "    rounded = round(percent, 2) # round\n",
    "    return \"{} % of {} engine aircraft result in a fatality\".format(rounded, count) # output"
   ]
  },
  {
   "cell_type": "markdown",
   "metadata": {},
   "source": [
    "Percent of total fatalities, how many crashes resulted in death, percent of entries and how engines effect incident rate (output showed later in dictionary) "
   ]
  },
  {
   "cell_type": "code",
   "execution_count": 28,
   "metadata": {
    "scrolled": true
   },
   "outputs": [],
   "source": [
    "boeing_percent_of_deaths = find_percent('Boeing')\n",
    "boeing_fatality_rate = find_death_per_crash('Boeing')\n",
    "boeing_total_rate = incident_count('Boeing')"
   ]
  },
  {
   "cell_type": "code",
   "execution_count": 29,
   "metadata": {},
   "outputs": [],
   "source": [
    "airbus_percent_of_deaths = find_percent('Airbus')\n",
    "airbus_fatality_rate = find_death_per_crash('Airbus')\n",
    "airbus_total_rate = incident_count('Airbus')"
   ]
  },
  {
   "cell_type": "code",
   "execution_count": 30,
   "metadata": {},
   "outputs": [],
   "source": [
    "cessna_percent_of_deaths = find_percent('Cessna')\n",
    "cessna_fatality_rate = find_death_per_crash('Cessna')\n",
    "cessna_total_rate = incident_count('Cessna')"
   ]
  },
  {
   "cell_type": "code",
   "execution_count": 31,
   "metadata": {},
   "outputs": [],
   "source": [
    "t_fan = engine_percent('Turbo Fan')"
   ]
  },
  {
   "cell_type": "code",
   "execution_count": 32,
   "metadata": {},
   "outputs": [],
   "source": [
    "t_jet = engine_percent('Turbo Jet')"
   ]
  },
  {
   "cell_type": "code",
   "execution_count": 33,
   "metadata": {},
   "outputs": [],
   "source": [
    "t_shaft = engine_percent('Turbo Shaft')"
   ]
  },
  {
   "cell_type": "code",
   "execution_count": 92,
   "metadata": {},
   "outputs": [],
   "source": [
    "recip = engine_percent('Reciprocating')"
   ]
  },
  {
   "cell_type": "markdown",
   "metadata": {},
   "source": [
    "## Graphs Comparing Brands"
   ]
  },
  {
   "cell_type": "markdown",
   "metadata": {},
   "source": [
    "Here are some graphs that utilize the `functions` created earlier. Now we can visually see the differences between brands."
   ]
  },
  {
   "cell_type": "markdown",
   "metadata": {},
   "source": [
    "function utilized :\n",
    "\n",
    "`find_percent`"
   ]
  },
  {
   "cell_type": "code",
   "execution_count": 100,
   "metadata": {
    "scrolled": false
   },
   "outputs": [
    {
     "data": {
      "image/png": "[encoded data removed]",
      "text/plain": [
       "<Figure size 576x432 with 1 Axes>"
      ]
     },
     "metadata": {
      "needs_background": "light"
     },
     "output_type": "display_data"
    }
   ],
   "source": [
    "# Bargraph to compare death percent from each make\n",
    "\n",
    "height = [17.43, 4.98, 19.23, 13.32]\n",
    "x = range(4)\n",
    "labels = ['Boeing', 'Airbus', 'Cessna', 'Piper']\n",
    "\n",
    "fig, ax = plt.subplots(figsize = (8,6))\n",
    "ax.bar(x, height, tick_label = labels)\n",
    "\n",
    "ax.set_title('Total death percent in data sheet')\n",
    "ax.set_ylabel('percent of deaths');"
   ]
  },
  {
   "cell_type": "markdown",
   "metadata": {},
   "source": [
    "The barchart above shows the relationship between 4 brands of aircraft, specifically the percent of deaths each brand is responsable for. Airbus clearly is responsable for significantly less deaths. "
   ]
  },
  {
   "cell_type": "markdown",
   "metadata": {},
   "source": [
    "function utilized:\n",
    "\n",
    "`find_death_per_crash`"
   ]
  },
  {
   "cell_type": "code",
   "execution_count": 102,
   "metadata": {},
   "outputs": [
    {
     "data": {
      "image/png": "[encoded data removed]",
      "text/plain": [
       "<Figure size 576x432 with 1 Axes>"
      ]
     },
     "metadata": {
      "needs_background": "light"
     },
     "output_type": "display_data"
    }
   ],
   "source": [
    "# Bargraph to show how many incidents cause at least one death\n",
    "\n",
    "height = [0.94, 0.15, 26.06, 17.99]\n",
    "x = range(4)\n",
    "labels = ['Boeing', 'Airbus', 'Cessna', 'Piper']\n",
    "\n",
    "fig, ax = plt.subplots(figsize = (8,6))\n",
    "ax.bar(x, height, tick_label = labels)\n",
    "\n",
    "ax.set_title('percent of incidents that cause a death')\n",
    "ax.set_ylabel('percent of incidents');"
   ]
  },
  {
   "cell_type": "markdown",
   "metadata": {},
   "source": [
    "Here we can begin to notice a pattern, with Airbus seeming to be the best choice. Lets look at another graph to see if it continues."
   ]
  },
  {
   "cell_type": "markdown",
   "metadata": {},
   "source": [
    "function utilized:\n",
    "\n",
    "`incident_count`"
   ]
  },
  {
   "cell_type": "code",
   "execution_count": 104,
   "metadata": {},
   "outputs": [
    {
     "data": {
      "image/png": "[encoded data removed]",
      "text/plain": [
       "<Figure size 576x432 with 1 Axes>"
      ]
     },
     "metadata": {
      "needs_background": "light"
     },
     "output_type": "display_data"
    }
   ],
   "source": [
    "# Bargraph to show percent of entries each brand is responable for \n",
    "height = [3.1, 0.51, 30.55, 16.73]\n",
    "x = range(4)\n",
    "labels = ['Boeing', 'Airbus', 'Cessna', 'Piper']\n",
    "\n",
    "fig, ax = plt.subplots(figsize = (8,6))\n",
    "ax.bar(x, height, tick_label = labels)\n",
    "\n",
    "ax.set_title('Total percent of entries in data sheet')\n",
    "ax.set_ylabel('entry count percent');"
   ]
  },
  {
   "cell_type": "markdown",
   "metadata": {},
   "source": [
    "Once again, Airbus is the best make with the lowest incidents reported, followed by Boeing, Piper and finally Cessna.\n"
   ]
  },
  {
   "cell_type": "markdown",
   "metadata": {},
   "source": [
    "## Engine type"
   ]
  },
  {
   "cell_type": "markdown",
   "metadata": {},
   "source": [
    "For engine type, we will compare 4 common engine types. \n",
    "\n",
    "- turbo fan\n",
    "- turbo jet\n",
    "- turbo shaft\n",
    "- reciprocating"
   ]
  },
  {
   "cell_type": "code",
   "execution_count": 37,
   "metadata": {},
   "outputs": [
    {
     "data": {
      "text/plain": [
       "Engine.Type\n",
       "Reciprocating      69530\n",
       "Turbo Shaft         3609\n",
       "Turbo Prop          3391\n",
       "Turbo Fan           2481\n",
       "Unknown             2051\n",
       "Turbo Jet            703\n",
       "Geared Turbofan       12\n",
       "Electric              10\n",
       "LR                     2\n",
       "NONE                   2\n",
       "Hybrid Rocket          1\n",
       "UNK                    1\n",
       "Name: count, dtype: int64"
      ]
     },
     "execution_count": 37,
     "metadata": {},
     "output_type": "execute_result"
    }
   ],
   "source": [
    "df1['Engine.Type'].value_counts()"
   ]
  },
  {
   "cell_type": "markdown",
   "metadata": {},
   "source": [
    "Using a `function` written in the define section, we see that turbo jet engines have the least reported incidents, but the second highest fatalities per incident, whereas turbo fan engies have the third highest reported incidents, but the lowest fatalities per incident. "
   ]
  },
  {
   "cell_type": "markdown",
   "metadata": {},
   "source": [
    "function utilized:\n",
    "\n",
    "`engine_percent`"
   ]
  },
  {
   "cell_type": "code",
   "execution_count": 93,
   "metadata": {},
   "outputs": [
    {
     "name": "stdout",
     "output_type": "stream",
     "text": [
      "out of 2481 incidents involving Turbo Fan engines, 7.98 % had at least 1 fatality\n",
      "\n",
      "out of 703 incidents involving Turbo Jet engines, 19.35 % had at least 1 fatality\n",
      "\n",
      "out of 3609 incidents involving Turbo Shaft engines, 22.14 % had at least 1 fatality\n",
      "\n",
      "out of 69530 incidents involving Reciprocating engines, 18.91 % had at least 1 fatality\n"
     ]
    }
   ],
   "source": [
    "print(t_fan)\n",
    "print()\n",
    "print(t_jet)\n",
    "print()\n",
    "print(t_shaft)\n",
    "print()\n",
    "print(recip)"
   ]
  },
  {
   "cell_type": "code",
   "execution_count": 94,
   "metadata": {
    "scrolled": true
   },
   "outputs": [
    {
     "data": {
      "image/png": "[encoded data removed]",
      "text/plain": [
       "<Figure size 432x288 with 1 Axes>"
      ]
     },
     "metadata": {
      "needs_background": "light"
     },
     "output_type": "display_data"
    }
   ],
   "source": [
    "# create a stacked barchart to show incidents without fatalities and total incidents with fatalities\n",
    "labels = ['Turbo Fan', 'Turbo Jet', 'Turbo Shaft', 'Reciprocating']\n",
    "incidents = [2284, 567, 2810, 56382] # totals are [2481, 703, 3609, 69530]\n",
    "fatalities = [197, 136, 799, 13148]\n",
    "width = 0.4\n",
    "fig, ax = plt.subplots()\n",
    "ax.bar(labels, incidents, width, label = 'Engine Type')\n",
    "ax.bar(labels, fatalities, width, bottom = incidents, label = 'fatalities')\n",
    "ax.set_ylabel('incidents')\n",
    "ax.set_title('Incidents and Fatalities')\n",
    "plt.legend(['incidents without fatalities', 'total incidents with fatalities'])\n",
    "plt.show()"
   ]
  },
  {
   "cell_type": "markdown",
   "metadata": {},
   "source": [
    "Note:\n",
    "\n",
    "The blue represents incidents that dont involve a fatality and the orange is the fatalities on top of the total no fatal incidents. Blue plus orange it the total amount of incidents."
   ]
  },
  {
   "cell_type": "markdown",
   "metadata": {},
   "source": [
    "Here we see its pretty clear that reciprocating has more significantly incidnets and more fatalities than turbo fan, turbo shaft and turbo jet. Using the `function` written in the define section, how many entries is each engine type associated with?"
   ]
  },
  {
   "cell_type": "markdown",
   "metadata": {},
   "source": [
    "function utilized:\n",
    "\n",
    "`engine_type_percent`"
   ]
  },
  {
   "cell_type": "code",
   "execution_count": 40,
   "metadata": {},
   "outputs": [
    {
     "data": {
      "text/plain": [
       "'out of 88889 entries, Turbo Fan is responable for 2481 (2.79 %) of entries'"
      ]
     },
     "execution_count": 40,
     "metadata": {},
     "output_type": "execute_result"
    }
   ],
   "source": [
    "engine_type_percent('Turbo Fan')"
   ]
  },
  {
   "cell_type": "code",
   "execution_count": 41,
   "metadata": {},
   "outputs": [
    {
     "data": {
      "text/plain": [
       "'out of 88889 entries, Turbo Jet is responable for 703 (0.79 %) of entries'"
      ]
     },
     "execution_count": 41,
     "metadata": {},
     "output_type": "execute_result"
    }
   ],
   "source": [
    "engine_type_percent('Turbo Jet')"
   ]
  },
  {
   "cell_type": "code",
   "execution_count": 42,
   "metadata": {
    "scrolled": true
   },
   "outputs": [
    {
     "data": {
      "text/plain": [
       "'out of 88889 entries, Turbo Shaft is responable for 3609 (4.06 %) of entries'"
      ]
     },
     "execution_count": 42,
     "metadata": {},
     "output_type": "execute_result"
    }
   ],
   "source": [
    "engine_type_percent('Turbo Shaft')"
   ]
  },
  {
   "cell_type": "code",
   "execution_count": 95,
   "metadata": {},
   "outputs": [
    {
     "data": {
      "text/plain": [
       "'out of 88889 entries, Reciprocating is responable for 69530 (78.22 %) of entries'"
      ]
     },
     "execution_count": 95,
     "metadata": {},
     "output_type": "execute_result"
    }
   ],
   "source": [
    "engine_type_percent('Reciprocating')"
   ]
  },
  {
   "cell_type": "markdown",
   "metadata": {},
   "source": [
    "## Purpose of Flight"
   ]
  },
  {
   "cell_type": "markdown",
   "metadata": {},
   "source": [
    "Here we look into the purpose of flight metric. The purpose of flight can effect many variables, including but not limited to:\n",
    "\n",
    "- amateur crew vs professional crew\n",
    "- type of aircraft being utilized \n",
    "- weather conditions that are safe to fly in\n",
    "    - \"VMC\" or Visual Meteorological Conditions\n",
    "    - \"IMC\" or Instrument Meteorological Conditions\n",
    "\n",
    "The weather conditions mentioned above reference how the aircraft is piloted. With \"VMC\" conditions, pilots are capable of visually guiding the aircraft, while \"IMC\" requires pilots to utilize instraments to safely guide the aircraft. This is important to note because a profesional crew may be more capable of utilizing instraments and have the ability to still be in operation when in less then ideal weather, whereas a pilot using an aircraft for personal means may be less able to operate in aggressive weather because the aircraft may be smaller or the crew less experienced. The following code blocks deminstrates why i recommend using flights for only business or executive / corporate reasons, instead of personal."
   ]
  },
  {
   "cell_type": "code",
   "execution_count": 43,
   "metadata": {
    "scrolled": true
   },
   "outputs": [
    {
     "data": {
      "text/plain": [
       "Purpose.of.flight\n",
       "Personal                     49448\n",
       "Instructional                10601\n",
       "Unknown                       6802\n",
       "Aerial Application            4712\n",
       "Business                      4018\n",
       "Positioning                   1646\n",
       "Other Work Use                1264\n",
       "Ferry                          812\n",
       "Aerial Observation             794\n",
       "Public Aircraft                720\n",
       "Executive/corporate            553\n",
       "Flight Test                    405\n",
       "Skydiving                      182\n",
       "External Load                  123\n",
       "Public Aircraft - Federal      105\n",
       "Banner Tow                     101\n",
       "Air Race show                   99\n",
       "Public Aircraft - Local         74\n",
       "Public Aircraft - State         64\n",
       "Air Race/show                   59\n",
       "Glider Tow                      53\n",
       "Firefighting                    40\n",
       "Air Drop                        11\n",
       "ASHO                             6\n",
       "PUBS                             4\n",
       "PUBL                             1\n",
       "Name: count, dtype: int64"
      ]
     },
     "execution_count": 43,
     "metadata": {},
     "output_type": "execute_result"
    }
   ],
   "source": [
    "df1['Purpose.of.flight'].value_counts()"
   ]
  },
  {
   "cell_type": "markdown",
   "metadata": {},
   "source": [
    "Here we utilize the `function` written in the define section to quickly gather what percent of incidents a given purpose of flight is responsable for."
   ]
  },
  {
   "cell_type": "markdown",
   "metadata": {},
   "source": [
    "function utilized:\n",
    "\n",
    "`purpose_percent`"
   ]
  },
  {
   "cell_type": "code",
   "execution_count": 44,
   "metadata": {},
   "outputs": [
    {
     "data": {
      "text/plain": [
       "'Business flights are 4.52 % of reported incidents'"
      ]
     },
     "execution_count": 44,
     "metadata": {},
     "output_type": "execute_result"
    }
   ],
   "source": [
    "purpose_percent('Business')"
   ]
  },
  {
   "cell_type": "code",
   "execution_count": 45,
   "metadata": {},
   "outputs": [
    {
     "data": {
      "text/plain": [
       "'Executive/corporate flights are 0.62 % of reported incidents'"
      ]
     },
     "execution_count": 45,
     "metadata": {},
     "output_type": "execute_result"
    }
   ],
   "source": [
    "purpose_percent('Executive/corporate')"
   ]
  },
  {
   "cell_type": "code",
   "execution_count": 46,
   "metadata": {},
   "outputs": [
    {
     "data": {
      "text/plain": [
       "'Personal flights are 55.63 % of reported incidents'"
      ]
     },
     "execution_count": 46,
     "metadata": {},
     "output_type": "execute_result"
    }
   ],
   "source": [
    "purpose_percent('Personal')"
   ]
  },
  {
   "cell_type": "markdown",
   "metadata": {},
   "source": [
    "We can see that the `Business` and `Executive/corporate` entries have significantly less reported incidents involving them. Lets check out some graphs."
   ]
  },
  {
   "cell_type": "code",
   "execution_count": 47,
   "metadata": {},
   "outputs": [
    {
     "data": {
      "image/png": "[encoded data removed]",
      "text/plain": [
       "<Figure size 576x432 with 1 Axes>"
      ]
     },
     "metadata": {
      "needs_background": "light"
     },
     "output_type": "display_data"
    }
   ],
   "source": [
    "# Bargraph to compare purpose of flight entry percent\n",
    "\n",
    "height = [4.52, 0.62, 55.63]\n",
    "x = range(3)\n",
    "labels = ['Business', 'Executive / Corporate', 'Personal']\n",
    "\n",
    "fig, ax = plt.subplots(figsize = (8,6))\n",
    "ax.bar(x, height, tick_label = labels)\n",
    "\n",
    "ax.set_title('Purpose of flight entry percent')\n",
    "ax.set_ylabel('Percent');"
   ]
  },
  {
   "cell_type": "markdown",
   "metadata": {},
   "source": [
    "Visually, its even clearer that personal flights have significantly more entries into the data base. What about how many fatalities is each purpose of flight associated with? "
   ]
  },
  {
   "cell_type": "markdown",
   "metadata": {},
   "source": [
    "utilized function:\n",
    "\n",
    "`p_flight_fatal_count`"
   ]
  },
  {
   "cell_type": "code",
   "execution_count": 48,
   "metadata": {},
   "outputs": [
    {
     "data": {
      "text/plain": [
       "'Business flights are responsable for 4018 death(s)'"
      ]
     },
     "execution_count": 48,
     "metadata": {},
     "output_type": "execute_result"
    }
   ],
   "source": [
    "p_flight_fatal_count('Business')"
   ]
  },
  {
   "cell_type": "code",
   "execution_count": 49,
   "metadata": {},
   "outputs": [
    {
     "data": {
      "text/plain": [
       "'Executive/corporate flights are responsable for 553 death(s)'"
      ]
     },
     "execution_count": 49,
     "metadata": {},
     "output_type": "execute_result"
    }
   ],
   "source": [
    "p_flight_fatal_count('Executive/corporate')"
   ]
  },
  {
   "cell_type": "code",
   "execution_count": 50,
   "metadata": {
    "scrolled": true
   },
   "outputs": [
    {
     "data": {
      "text/plain": [
       "'Personal flights are responsable for 49448 death(s)'"
      ]
     },
     "execution_count": 50,
     "metadata": {},
     "output_type": "execute_result"
    }
   ],
   "source": [
    "p_flight_fatal_count('Personal')"
   ]
  },
  {
   "cell_type": "markdown",
   "metadata": {},
   "source": [
    "Lets put these numbers in a graph"
   ]
  },
  {
   "cell_type": "code",
   "execution_count": 51,
   "metadata": {},
   "outputs": [
    {
     "data": {
      "image/png": "[encoded data removed]",
      "text/plain": [
       "<Figure size 576x432 with 1 Axes>"
      ]
     },
     "metadata": {
      "needs_background": "light"
     },
     "output_type": "display_data"
    }
   ],
   "source": [
    "# Bargraph to compare purpose of flight fatalities \n",
    "\n",
    "height = [4018, 553, 49448]\n",
    "x = range(3)\n",
    "labels = ['Business', 'Executive / Corporate', 'Personal']\n",
    "\n",
    "fig, ax = plt.subplots(figsize = (8,6))\n",
    "ax.bar(x, height, tick_label = labels)\n",
    "\n",
    "ax.set_title('Fatalities per Purpose of flight')\n",
    "ax.set_ylabel('Fatalities');"
   ]
  },
  {
   "cell_type": "markdown",
   "metadata": {},
   "source": [
    "Once again, we see Personal flights having the less desirable stats, having significantly higher fatalities then other purpose of flights.  "
   ]
  },
  {
   "cell_type": "markdown",
   "metadata": {},
   "source": [
    "## Adding to the Data Frame"
   ]
  },
  {
   "cell_type": "markdown",
   "metadata": {},
   "source": [
    "Here we create some new columns to contain gathered information. The first column adds togeher the amount of non-fatal injuries with fatal injuries, and the second only adds non-fatal injuries together.  "
   ]
  },
  {
   "cell_type": "code",
   "execution_count": 52,
   "metadata": {},
   "outputs": [],
   "source": [
    "df1['Total_Injuries'] = df1['Total.Fatal.Injuries'] + df1['Total.Serious.Injuries'] + df1['Total.Minor.Injuries']"
   ]
  },
  {
   "cell_type": "code",
   "execution_count": 53,
   "metadata": {},
   "outputs": [],
   "source": [
    "df1['Total_Non_Fatal'] = df1['Total.Serious.Injuries'] + df1['Total.Minor.Injuries']"
   ]
  },
  {
   "cell_type": "code",
   "execution_count": 54,
   "metadata": {
    "scrolled": true
   },
   "outputs": [
    {
     "data": {
      "text/html": [
       "<div>\n",
       "<style scoped>\n",
       "    .dataframe tbody tr th:only-of-type {\n",
       "        vertical-align: middle;\n",
       "    }\n",
       "\n",
       "    .dataframe tbody tr th {\n",
       "        vertical-align: top;\n",
       "    }\n",
       "\n",
       "    .dataframe thead th {\n",
       "        text-align: right;\n",
       "    }\n",
       "</style>\n",
       "<table border=\"1\" class=\"dataframe\">\n",
       "  <thead>\n",
       "    <tr style=\"text-align: right;\">\n",
       "      <th></th>\n",
       "      <th>Event.Id</th>\n",
       "      <th>Investigation.Type</th>\n",
       "      <th>Accident.Number</th>\n",
       "      <th>Event.Date</th>\n",
       "      <th>Location</th>\n",
       "      <th>Country</th>\n",
       "      <th>Latitude</th>\n",
       "      <th>Longitude</th>\n",
       "      <th>Airport.Code</th>\n",
       "      <th>Airport.Name</th>\n",
       "      <th>...</th>\n",
       "      <th>Total.Serious.Injuries</th>\n",
       "      <th>Total.Minor.Injuries</th>\n",
       "      <th>Total.Uninjured</th>\n",
       "      <th>Weather.Condition</th>\n",
       "      <th>Broad.phase.of.flight</th>\n",
       "      <th>Report.Status</th>\n",
       "      <th>Publication.Date</th>\n",
       "      <th>year</th>\n",
       "      <th>Total_Injuries</th>\n",
       "      <th>Total_Non_Fatal</th>\n",
       "    </tr>\n",
       "  </thead>\n",
       "  <tbody>\n",
       "    <tr>\n",
       "      <th>0</th>\n",
       "      <td>20001218X45444</td>\n",
       "      <td>Accident</td>\n",
       "      <td>SEA87LA080</td>\n",
       "      <td>1948-10-24</td>\n",
       "      <td>MOOSE CREEK, ID</td>\n",
       "      <td>United States</td>\n",
       "      <td>NaN</td>\n",
       "      <td>NaN</td>\n",
       "      <td>NaN</td>\n",
       "      <td>NaN</td>\n",
       "      <td>...</td>\n",
       "      <td>0.0</td>\n",
       "      <td>0.0</td>\n",
       "      <td>0.0</td>\n",
       "      <td>UNK</td>\n",
       "      <td>Cruise</td>\n",
       "      <td>Probable Cause</td>\n",
       "      <td>NaN</td>\n",
       "      <td>1948</td>\n",
       "      <td>2.0</td>\n",
       "      <td>0.0</td>\n",
       "    </tr>\n",
       "    <tr>\n",
       "      <th>1</th>\n",
       "      <td>20001218X45447</td>\n",
       "      <td>Accident</td>\n",
       "      <td>LAX94LA336</td>\n",
       "      <td>1962-07-19</td>\n",
       "      <td>BRIDGEPORT, CA</td>\n",
       "      <td>United States</td>\n",
       "      <td>NaN</td>\n",
       "      <td>NaN</td>\n",
       "      <td>NaN</td>\n",
       "      <td>NaN</td>\n",
       "      <td>...</td>\n",
       "      <td>0.0</td>\n",
       "      <td>0.0</td>\n",
       "      <td>0.0</td>\n",
       "      <td>UNK</td>\n",
       "      <td>Unknown</td>\n",
       "      <td>Probable Cause</td>\n",
       "      <td>19-09-1996</td>\n",
       "      <td>1962</td>\n",
       "      <td>4.0</td>\n",
       "      <td>0.0</td>\n",
       "    </tr>\n",
       "    <tr>\n",
       "      <th>2</th>\n",
       "      <td>20061025X01555</td>\n",
       "      <td>Accident</td>\n",
       "      <td>NYC07LA005</td>\n",
       "      <td>1974-08-30</td>\n",
       "      <td>Saltville, VA</td>\n",
       "      <td>United States</td>\n",
       "      <td>36.922223</td>\n",
       "      <td>-81.878056</td>\n",
       "      <td>NaN</td>\n",
       "      <td>NaN</td>\n",
       "      <td>...</td>\n",
       "      <td>0.0</td>\n",
       "      <td>0.0</td>\n",
       "      <td>NaN</td>\n",
       "      <td>IMC</td>\n",
       "      <td>Cruise</td>\n",
       "      <td>Probable Cause</td>\n",
       "      <td>26-02-2007</td>\n",
       "      <td>1974</td>\n",
       "      <td>3.0</td>\n",
       "      <td>0.0</td>\n",
       "    </tr>\n",
       "    <tr>\n",
       "      <th>3</th>\n",
       "      <td>20001218X45448</td>\n",
       "      <td>Accident</td>\n",
       "      <td>LAX96LA321</td>\n",
       "      <td>1977-06-19</td>\n",
       "      <td>EUREKA, CA</td>\n",
       "      <td>United States</td>\n",
       "      <td>NaN</td>\n",
       "      <td>NaN</td>\n",
       "      <td>NaN</td>\n",
       "      <td>NaN</td>\n",
       "      <td>...</td>\n",
       "      <td>0.0</td>\n",
       "      <td>0.0</td>\n",
       "      <td>0.0</td>\n",
       "      <td>IMC</td>\n",
       "      <td>Cruise</td>\n",
       "      <td>Probable Cause</td>\n",
       "      <td>12-09-2000</td>\n",
       "      <td>1977</td>\n",
       "      <td>2.0</td>\n",
       "      <td>0.0</td>\n",
       "    </tr>\n",
       "    <tr>\n",
       "      <th>4</th>\n",
       "      <td>20041105X01764</td>\n",
       "      <td>Accident</td>\n",
       "      <td>CHI79FA064</td>\n",
       "      <td>1979-08-02</td>\n",
       "      <td>Canton, OH</td>\n",
       "      <td>United States</td>\n",
       "      <td>NaN</td>\n",
       "      <td>NaN</td>\n",
       "      <td>NaN</td>\n",
       "      <td>NaN</td>\n",
       "      <td>...</td>\n",
       "      <td>2.0</td>\n",
       "      <td>0.0</td>\n",
       "      <td>0.0</td>\n",
       "      <td>VMC</td>\n",
       "      <td>Approach</td>\n",
       "      <td>Probable Cause</td>\n",
       "      <td>16-04-1980</td>\n",
       "      <td>1979</td>\n",
       "      <td>3.0</td>\n",
       "      <td>2.0</td>\n",
       "    </tr>\n",
       "    <tr>\n",
       "      <th>...</th>\n",
       "      <td>...</td>\n",
       "      <td>...</td>\n",
       "      <td>...</td>\n",
       "      <td>...</td>\n",
       "      <td>...</td>\n",
       "      <td>...</td>\n",
       "      <td>...</td>\n",
       "      <td>...</td>\n",
       "      <td>...</td>\n",
       "      <td>...</td>\n",
       "      <td>...</td>\n",
       "      <td>...</td>\n",
       "      <td>...</td>\n",
       "      <td>...</td>\n",
       "      <td>...</td>\n",
       "      <td>...</td>\n",
       "      <td>...</td>\n",
       "      <td>...</td>\n",
       "      <td>...</td>\n",
       "      <td>...</td>\n",
       "      <td>...</td>\n",
       "    </tr>\n",
       "    <tr>\n",
       "      <th>88884</th>\n",
       "      <td>20221227106491</td>\n",
       "      <td>Accident</td>\n",
       "      <td>ERA23LA093</td>\n",
       "      <td>2022-12-26</td>\n",
       "      <td>Annapolis, MD</td>\n",
       "      <td>United States</td>\n",
       "      <td>NaN</td>\n",
       "      <td>NaN</td>\n",
       "      <td>NaN</td>\n",
       "      <td>NaN</td>\n",
       "      <td>...</td>\n",
       "      <td>1.0</td>\n",
       "      <td>0.0</td>\n",
       "      <td>0.0</td>\n",
       "      <td>NaN</td>\n",
       "      <td>NaN</td>\n",
       "      <td>NaN</td>\n",
       "      <td>29-12-2022</td>\n",
       "      <td>2022</td>\n",
       "      <td>1.0</td>\n",
       "      <td>1.0</td>\n",
       "    </tr>\n",
       "    <tr>\n",
       "      <th>88885</th>\n",
       "      <td>20221227106494</td>\n",
       "      <td>Accident</td>\n",
       "      <td>ERA23LA095</td>\n",
       "      <td>2022-12-26</td>\n",
       "      <td>Hampton, NH</td>\n",
       "      <td>United States</td>\n",
       "      <td>NaN</td>\n",
       "      <td>NaN</td>\n",
       "      <td>NaN</td>\n",
       "      <td>NaN</td>\n",
       "      <td>...</td>\n",
       "      <td>0.0</td>\n",
       "      <td>0.0</td>\n",
       "      <td>0.0</td>\n",
       "      <td>NaN</td>\n",
       "      <td>NaN</td>\n",
       "      <td>NaN</td>\n",
       "      <td>NaN</td>\n",
       "      <td>2022</td>\n",
       "      <td>0.0</td>\n",
       "      <td>0.0</td>\n",
       "    </tr>\n",
       "    <tr>\n",
       "      <th>88886</th>\n",
       "      <td>20221227106497</td>\n",
       "      <td>Accident</td>\n",
       "      <td>WPR23LA075</td>\n",
       "      <td>2022-12-26</td>\n",
       "      <td>Payson, AZ</td>\n",
       "      <td>United States</td>\n",
       "      <td>341525N</td>\n",
       "      <td>1112021W</td>\n",
       "      <td>PAN</td>\n",
       "      <td>PAYSON</td>\n",
       "      <td>...</td>\n",
       "      <td>0.0</td>\n",
       "      <td>0.0</td>\n",
       "      <td>1.0</td>\n",
       "      <td>VMC</td>\n",
       "      <td>NaN</td>\n",
       "      <td>NaN</td>\n",
       "      <td>27-12-2022</td>\n",
       "      <td>2022</td>\n",
       "      <td>0.0</td>\n",
       "      <td>0.0</td>\n",
       "    </tr>\n",
       "    <tr>\n",
       "      <th>88887</th>\n",
       "      <td>20221227106498</td>\n",
       "      <td>Accident</td>\n",
       "      <td>WPR23LA076</td>\n",
       "      <td>2022-12-26</td>\n",
       "      <td>Morgan, UT</td>\n",
       "      <td>United States</td>\n",
       "      <td>NaN</td>\n",
       "      <td>NaN</td>\n",
       "      <td>NaN</td>\n",
       "      <td>NaN</td>\n",
       "      <td>...</td>\n",
       "      <td>0.0</td>\n",
       "      <td>0.0</td>\n",
       "      <td>0.0</td>\n",
       "      <td>NaN</td>\n",
       "      <td>NaN</td>\n",
       "      <td>NaN</td>\n",
       "      <td>NaN</td>\n",
       "      <td>2022</td>\n",
       "      <td>0.0</td>\n",
       "      <td>0.0</td>\n",
       "    </tr>\n",
       "    <tr>\n",
       "      <th>88888</th>\n",
       "      <td>20221230106513</td>\n",
       "      <td>Accident</td>\n",
       "      <td>ERA23LA097</td>\n",
       "      <td>2022-12-29</td>\n",
       "      <td>Athens, GA</td>\n",
       "      <td>United States</td>\n",
       "      <td>NaN</td>\n",
       "      <td>NaN</td>\n",
       "      <td>NaN</td>\n",
       "      <td>NaN</td>\n",
       "      <td>...</td>\n",
       "      <td>1.0</td>\n",
       "      <td>0.0</td>\n",
       "      <td>1.0</td>\n",
       "      <td>NaN</td>\n",
       "      <td>NaN</td>\n",
       "      <td>NaN</td>\n",
       "      <td>30-12-2022</td>\n",
       "      <td>2022</td>\n",
       "      <td>1.0</td>\n",
       "      <td>1.0</td>\n",
       "    </tr>\n",
       "  </tbody>\n",
       "</table>\n",
       "<p>88889 rows × 33 columns</p>\n",
       "</div>"
      ],
      "text/plain": [
       "             Event.Id Investigation.Type Accident.Number Event.Date  \\\n",
       "0      20001218X45444           Accident      SEA87LA080 1948-10-24   \n",
       "1      20001218X45447           Accident      LAX94LA336 1962-07-19   \n",
       "2      20061025X01555           Accident      NYC07LA005 1974-08-30   \n",
       "3      20001218X45448           Accident      LAX96LA321 1977-06-19   \n",
       "4      20041105X01764           Accident      CHI79FA064 1979-08-02   \n",
       "...               ...                ...             ...        ...   \n",
       "88884  20221227106491           Accident      ERA23LA093 2022-12-26   \n",
       "88885  20221227106494           Accident      ERA23LA095 2022-12-26   \n",
       "88886  20221227106497           Accident      WPR23LA075 2022-12-26   \n",
       "88887  20221227106498           Accident      WPR23LA076 2022-12-26   \n",
       "88888  20221230106513           Accident      ERA23LA097 2022-12-29   \n",
       "\n",
       "              Location        Country   Latitude   Longitude Airport.Code  \\\n",
       "0      MOOSE CREEK, ID  United States        NaN         NaN          NaN   \n",
       "1       BRIDGEPORT, CA  United States        NaN         NaN          NaN   \n",
       "2        Saltville, VA  United States  36.922223  -81.878056          NaN   \n",
       "3           EUREKA, CA  United States        NaN         NaN          NaN   \n",
       "4           Canton, OH  United States        NaN         NaN          NaN   \n",
       "...                ...            ...        ...         ...          ...   \n",
       "88884    Annapolis, MD  United States        NaN         NaN          NaN   \n",
       "88885      Hampton, NH  United States        NaN         NaN          NaN   \n",
       "88886       Payson, AZ  United States    341525N    1112021W          PAN   \n",
       "88887       Morgan, UT  United States        NaN         NaN          NaN   \n",
       "88888       Athens, GA  United States        NaN         NaN          NaN   \n",
       "\n",
       "      Airport.Name  ... Total.Serious.Injuries Total.Minor.Injuries  \\\n",
       "0              NaN  ...                    0.0                  0.0   \n",
       "1              NaN  ...                    0.0                  0.0   \n",
       "2              NaN  ...                    0.0                  0.0   \n",
       "3              NaN  ...                    0.0                  0.0   \n",
       "4              NaN  ...                    2.0                  0.0   \n",
       "...            ...  ...                    ...                  ...   \n",
       "88884          NaN  ...                    1.0                  0.0   \n",
       "88885          NaN  ...                    0.0                  0.0   \n",
       "88886       PAYSON  ...                    0.0                  0.0   \n",
       "88887          NaN  ...                    0.0                  0.0   \n",
       "88888          NaN  ...                    1.0                  0.0   \n",
       "\n",
       "      Total.Uninjured Weather.Condition Broad.phase.of.flight   Report.Status  \\\n",
       "0                 0.0               UNK                Cruise  Probable Cause   \n",
       "1                 0.0               UNK               Unknown  Probable Cause   \n",
       "2                 NaN               IMC                Cruise  Probable Cause   \n",
       "3                 0.0               IMC                Cruise  Probable Cause   \n",
       "4                 0.0               VMC              Approach  Probable Cause   \n",
       "...               ...               ...                   ...             ...   \n",
       "88884             0.0               NaN                   NaN             NaN   \n",
       "88885             0.0               NaN                   NaN             NaN   \n",
       "88886             1.0               VMC                   NaN             NaN   \n",
       "88887             0.0               NaN                   NaN             NaN   \n",
       "88888             1.0               NaN                   NaN             NaN   \n",
       "\n",
       "      Publication.Date  year Total_Injuries Total_Non_Fatal  \n",
       "0                  NaN  1948            2.0             0.0  \n",
       "1           19-09-1996  1962            4.0             0.0  \n",
       "2           26-02-2007  1974            3.0             0.0  \n",
       "3           12-09-2000  1977            2.0             0.0  \n",
       "4           16-04-1980  1979            3.0             2.0  \n",
       "...                ...   ...            ...             ...  \n",
       "88884       29-12-2022  2022            1.0             1.0  \n",
       "88885              NaN  2022            0.0             0.0  \n",
       "88886       27-12-2022  2022            0.0             0.0  \n",
       "88887              NaN  2022            0.0             0.0  \n",
       "88888       30-12-2022  2022            1.0             1.0  \n",
       "\n",
       "[88889 rows x 33 columns]"
      ]
     },
     "execution_count": 54,
     "metadata": {},
     "output_type": "execute_result"
    }
   ],
   "source": [
    "df1"
   ]
  },
  {
   "cell_type": "markdown",
   "metadata": {},
   "source": [
    "Here we see that the amount of incidents that resulted in any fatalities or injuries is 17,813"
   ]
  },
  {
   "cell_type": "code",
   "execution_count": 55,
   "metadata": {},
   "outputs": [
    {
     "data": {
      "text/plain": [
       "17813"
      ]
     },
     "execution_count": 55,
     "metadata": {},
     "output_type": "execute_result"
    }
   ],
   "source": [
    "len(df1.loc[df1['Total.Fatal.Injuries'] >= 1])"
   ]
  },
  {
   "cell_type": "markdown",
   "metadata": {},
   "source": [
    "Gather make/models with 0 total injuries including deaths"
   ]
  },
  {
   "cell_type": "code",
   "execution_count": 56,
   "metadata": {},
   "outputs": [],
   "source": [
    "list_with_no_injuries = df1.loc[df1['Total_Injuries'] < 1]['Model']"
   ]
  },
  {
   "cell_type": "code",
   "execution_count": 57,
   "metadata": {},
   "outputs": [
    {
     "data": {
      "text/plain": [
       "7           140\n",
       "8          401B\n",
       "10    PA-28-161\n",
       "11         V35B\n",
       "16         280C\n",
       "Name: Model, dtype: object"
      ]
     },
     "execution_count": 57,
     "metadata": {},
     "output_type": "execute_result"
    }
   ],
   "source": [
    "list_with_no_injuries.head()"
   ]
  },
  {
   "cell_type": "code",
   "execution_count": 58,
   "metadata": {
    "scrolled": true
   },
   "outputs": [
    {
     "data": {
      "text/plain": [
       "48398"
      ]
     },
     "execution_count": 58,
     "metadata": {},
     "output_type": "execute_result"
    }
   ],
   "source": [
    "len(list_with_no_injuries)"
   ]
  },
  {
   "cell_type": "markdown",
   "metadata": {},
   "source": [
    "Subtract `list_with_no_injuries` from the total entires in original df to see difference"
   ]
  },
  {
   "cell_type": "code",
   "execution_count": 59,
   "metadata": {},
   "outputs": [
    {
     "data": {
      "text/plain": [
       "40491"
      ]
     },
     "execution_count": 59,
     "metadata": {},
     "output_type": "execute_result"
    }
   ],
   "source": [
    "len(df1) - len(list_with_no_injuries)"
   ]
  },
  {
   "cell_type": "markdown",
   "metadata": {},
   "source": [
    "While `list_with_no_injuries` has over 40,000 less entries due to removing entries that have any injuries, this list is still to large to base a purchase off of."
   ]
  },
  {
   "cell_type": "code",
   "execution_count": 60,
   "metadata": {},
   "outputs": [
    {
     "data": {
      "text/plain": [
       "Aircraft.damage\n",
       "Substantial    64148\n",
       "Destroyed      18623\n",
       "Minor           2805\n",
       "Unknown          119\n",
       "Name: count, dtype: int64"
      ]
     },
     "execution_count": 60,
     "metadata": {},
     "output_type": "execute_result"
    }
   ],
   "source": [
    "df1['Aircraft.damage'].value_counts()"
   ]
  },
  {
   "cell_type": "markdown",
   "metadata": {},
   "source": [
    "Here we use `merge` to combine together the 2 data sets that have been created."
   ]
  },
  {
   "cell_type": "code",
   "execution_count": 61,
   "metadata": {},
   "outputs": [],
   "source": [
    "minor_damage = df1[df1['Aircraft.damage'] == 'Minor']"
   ]
  },
  {
   "cell_type": "code",
   "execution_count": 62,
   "metadata": {},
   "outputs": [],
   "source": [
    "no_injuries = df1[df1['Total_Injuries'] == 0.0]"
   ]
  },
  {
   "cell_type": "code",
   "execution_count": 63,
   "metadata": {},
   "outputs": [],
   "source": [
    "df2 = minor_damage.merge(no_injuries, how = 'inner')"
   ]
  },
  {
   "cell_type": "markdown",
   "metadata": {},
   "source": [
    "Check `df2` to see it merged properly"
   ]
  },
  {
   "cell_type": "code",
   "execution_count": 64,
   "metadata": {
    "scrolled": true
   },
   "outputs": [
    {
     "name": "stdout",
     "output_type": "stream",
     "text": [
      "<class 'pandas.core.frame.DataFrame'>\n",
      "RangeIndex: 2287 entries, 0 to 2286\n",
      "Data columns (total 33 columns):\n",
      " #   Column                  Non-Null Count  Dtype         \n",
      "---  ------                  --------------  -----         \n",
      " 0   Event.Id                2287 non-null   object        \n",
      " 1   Investigation.Type      2287 non-null   object        \n",
      " 2   Accident.Number         2287 non-null   object        \n",
      " 3   Event.Date              2287 non-null   datetime64[ns]\n",
      " 4   Location                2279 non-null   object        \n",
      " 5   Country                 2277 non-null   object        \n",
      " 6   Latitude                668 non-null    object        \n",
      " 7   Longitude               668 non-null    object        \n",
      " 8   Airport.Code            1439 non-null   object        \n",
      " 9   Airport.Name            1485 non-null   object        \n",
      " 10  Injury.Severity         2065 non-null   object        \n",
      " 11  Aircraft.damage         2287 non-null   object        \n",
      " 12  Aircraft.Category       937 non-null    object        \n",
      " 13  Registration.Number     2164 non-null   object        \n",
      " 14  Make                    2277 non-null   object        \n",
      " 15  Model                   2275 non-null   object        \n",
      " 16  Amateur.Built           2264 non-null   object        \n",
      " 17  Number.of.Engines       1806 non-null   float64       \n",
      " 18  Engine.Type             1784 non-null   object        \n",
      " 19  FAR.Description         902 non-null    object        \n",
      " 20  Purpose.of.flight       1466 non-null   object        \n",
      " 21  Air.carrier             1055 non-null   object        \n",
      " 22  Total.Fatal.Injuries    2287 non-null   float64       \n",
      " 23  Total.Serious.Injuries  2287 non-null   float64       \n",
      " 24  Total.Minor.Injuries    2287 non-null   float64       \n",
      " 25  Total.Uninjured         2220 non-null   float64       \n",
      " 26  Weather.Condition       1754 non-null   object        \n",
      " 27  Broad.phase.of.flight   1327 non-null   object        \n",
      " 28  Report.Status           1840 non-null   object        \n",
      " 29  Publication.Date        1882 non-null   object        \n",
      " 30  year                    2287 non-null   int32         \n",
      " 31  Total_Injuries          2287 non-null   float64       \n",
      " 32  Total_Non_Fatal         2287 non-null   float64       \n",
      "dtypes: datetime64[ns](1), float64(7), int32(1), object(24)\n",
      "memory usage: 580.8+ KB\n"
     ]
    }
   ],
   "source": [
    "df2.info()"
   ]
  },
  {
   "cell_type": "markdown",
   "metadata": {},
   "source": [
    "Adding a `year` column makes it a lot easier to gather information by the year."
   ]
  },
  {
   "cell_type": "markdown",
   "metadata": {},
   "source": [
    "## Engine Count"
   ]
  },
  {
   "cell_type": "markdown",
   "metadata": {},
   "source": [
    "As mentioned above, we can fill in `null` values with 0 for certain columns. Replacing `null` with 0 in the `Number.of.Engines` column doesn't alter the overall data, and allows us to treat the `null` value as a number, even though to us 0 has no value."
   ]
  },
  {
   "cell_type": "code",
   "execution_count": 65,
   "metadata": {},
   "outputs": [],
   "source": [
    "# fill null values in with 0\n",
    "df2['Number.of.Engines'].fillna(0.0, inplace = True)"
   ]
  },
  {
   "cell_type": "code",
   "execution_count": 66,
   "metadata": {
    "scrolled": false
   },
   "outputs": [
    {
     "data": {
      "text/plain": [
       "Number.of.Engines\n",
       "1.0    69582\n",
       "2.0    11079\n",
       "0.0     1226\n",
       "3.0      483\n",
       "4.0      431\n",
       "8.0        3\n",
       "6.0        1\n",
       "Name: count, dtype: int64"
      ]
     },
     "execution_count": 66,
     "metadata": {},
     "output_type": "execute_result"
    }
   ],
   "source": [
    "df1['Number.of.Engines'].value_counts()"
   ]
  },
  {
   "cell_type": "markdown",
   "metadata": {},
   "source": [
    "Here we utilize a `function` to compare the differences between 1 engine and 2 engine aircrafts. "
   ]
  },
  {
   "cell_type": "markdown",
   "metadata": {},
   "source": [
    "function utilized:\n",
    "\n",
    "`engine_count`"
   ]
  },
  {
   "cell_type": "code",
   "execution_count": 67,
   "metadata": {
    "scrolled": true
   },
   "outputs": [
    {
     "data": {
      "text/plain": [
       "'1 engine airplanes are 78.28 % of incidents'"
      ]
     },
     "execution_count": 67,
     "metadata": {},
     "output_type": "execute_result"
    }
   ],
   "source": [
    "engine_count(1)"
   ]
  },
  {
   "cell_type": "code",
   "execution_count": 68,
   "metadata": {},
   "outputs": [
    {
     "data": {
      "text/plain": [
       "'2 engine airplanes are 12.46 % of incidents'"
      ]
     },
     "execution_count": 68,
     "metadata": {},
     "output_type": "execute_result"
    }
   ],
   "source": [
    "engine_count(2)"
   ]
  },
  {
   "cell_type": "code",
   "execution_count": 69,
   "metadata": {},
   "outputs": [
    {
     "data": {
      "text/plain": [
       "65.82"
      ]
     },
     "execution_count": 69,
     "metadata": {},
     "output_type": "execute_result"
    }
   ],
   "source": [
    "# subtract the percentages to see the incident reduction by adding a single engine\n",
    "78.28 - 12.46"
   ]
  },
  {
   "cell_type": "markdown",
   "metadata": {},
   "source": [
    "By adding a single engine, ugrading from 1 to 2, we see nearly a 66% reduction in incidents. Having dual engines seems to be extremely valuable to ensuring safety.  "
   ]
  },
  {
   "cell_type": "code",
   "execution_count": 70,
   "metadata": {},
   "outputs": [
    {
     "data": {
      "image/png": "[encoded data removed]",
      "text/plain": [
       "<Figure size 432x288 with 1 Axes>"
      ]
     },
     "metadata": {},
     "output_type": "display_data"
    }
   ],
   "source": [
    "y = np.array([78.28,21.72])\n",
    "labels = ['single engine', 'other']\n",
    "plt.pie(y, labels = labels)\n",
    "plt.title('Percent of Incidents')\n",
    "plt.show()"
   ]
  },
  {
   "cell_type": "code",
   "execution_count": 71,
   "metadata": {},
   "outputs": [
    {
     "data": {
      "image/png": "[encoded data removed]",
      "text/plain": [
       "<Figure size 432x288 with 1 Axes>"
      ]
     },
     "metadata": {},
     "output_type": "display_data"
    }
   ],
   "source": [
    "y = np.array([12.46,87.54])\n",
    "labels = ['dual engine', 'other']\n",
    "plt.pie(y, labels = labels)\n",
    "plt.title('Percent of Incidents')\n",
    "plt.show()"
   ]
  },
  {
   "cell_type": "markdown",
   "metadata": {},
   "source": [
    "With these 2 pie charts we can visually see how adding 1 more engine results in a significant reduction in incidents."
   ]
  },
  {
   "cell_type": "markdown",
   "metadata": {},
   "source": [
    "Let's see how many incidents involving each engine type is responsable for 1 or more fatality using a `function` written above"
   ]
  },
  {
   "cell_type": "markdown",
   "metadata": {},
   "source": [
    "function utilized:\n",
    "\n",
    "`engine_fatality`"
   ]
  },
  {
   "cell_type": "code",
   "execution_count": 72,
   "metadata": {
    "scrolled": true
   },
   "outputs": [
    {
     "data": {
      "text/plain": [
       "'18.34 % of 1 engine aircraft result in a fatality'"
      ]
     },
     "execution_count": 72,
     "metadata": {},
     "output_type": "execute_result"
    }
   ],
   "source": [
    "engine_fatality(1)"
   ]
  },
  {
   "cell_type": "code",
   "execution_count": 73,
   "metadata": {},
   "outputs": [
    {
     "data": {
      "text/plain": [
       "'24.88 % of 2 engine aircraft result in a fatality'"
      ]
     },
     "execution_count": 73,
     "metadata": {},
     "output_type": "execute_result"
    }
   ],
   "source": [
    "engine_fatality(2)"
   ]
  },
  {
   "cell_type": "markdown",
   "metadata": {},
   "source": [
    "Interesting. Here we can see that 2 engine aircrafts appear to actually be more dangerous, being responsable for 6.54 % more fatalities. Why is this? well these percentages on their own are a little misleading. While 2 engine aircrafts technically have a higher fatality rate, it is actually safer because because your chances of an incidnet are significantly smaller. It just appears this way because 2 engine aircrafts have significantly less incidents, causing even a few fatalities to skew the data. Heres an example that helps me understand.\n",
    "\n",
    "25 fatalities is 25 % of 100 incidents\n",
    "\n",
    "while \n",
    "\n",
    "25 fatalities is 12.5 % of 200 incidents\n",
    "\n",
    "Here we see that a smaller incident total makes it appear as if therre are more total fatalities, even though there are not "
   ]
  },
  {
   "cell_type": "code",
   "execution_count": 74,
   "metadata": {},
   "outputs": [
    {
     "data": {
      "text/plain": [
       "12761"
      ]
     },
     "execution_count": 74,
     "metadata": {},
     "output_type": "execute_result"
    }
   ],
   "source": [
    "# fatalities associtated with 1 engine aircraft\n",
    "engine_list_1 = df1[df1['Number.of.Engines'] == 1]\n",
    "fatality_count = engine_list_1[engine_list_1['Total.Fatal.Injuries'] >= 1]\n",
    "len(fatality_count)"
   ]
  },
  {
   "cell_type": "code",
   "execution_count": 75,
   "metadata": {},
   "outputs": [
    {
     "data": {
      "text/plain": [
       "2756"
      ]
     },
     "execution_count": 75,
     "metadata": {},
     "output_type": "execute_result"
    }
   ],
   "source": [
    "# fatalities associtated with 2 engine aircraft\n",
    "engine_list_2 = df1[df1['Number.of.Engines'] == 2]\n",
    "fatality_count = engine_list_2[engine_list_2['Total.Fatal.Injuries'] >= 1]\n",
    "len(fatality_count)"
   ]
  },
  {
   "cell_type": "markdown",
   "metadata": {},
   "source": [
    "Here we see that 2 engine aircrafts have significantly less fatalities, 10,005 to be exact. "
   ]
  },
  {
   "cell_type": "markdown",
   "metadata": {},
   "source": [
    "## Narrowing Down"
   ]
  },
  {
   "cell_type": "markdown",
   "metadata": {},
   "source": [
    "Airplanes are the primary focus, so we will remove entries that are anything else."
   ]
  },
  {
   "cell_type": "code",
   "execution_count": 76,
   "metadata": {
    "scrolled": true
   },
   "outputs": [
    {
     "data": {
      "text/plain": [
       "Aircraft.Category\n",
       "Airplane        879\n",
       "Helicopter       55\n",
       "Unknown           2\n",
       "Powered-Lift      1\n",
       "Name: count, dtype: int64"
      ]
     },
     "execution_count": 76,
     "metadata": {},
     "output_type": "execute_result"
    }
   ],
   "source": [
    "df2['Aircraft.Category'].value_counts()"
   ]
  },
  {
   "cell_type": "code",
   "execution_count": 77,
   "metadata": {},
   "outputs": [],
   "source": [
    "# create new dataframe that is only airplanes\n",
    "df3 = df2[df2['Aircraft.Category'] == 'Airplane']"
   ]
  },
  {
   "cell_type": "code",
   "execution_count": 78,
   "metadata": {},
   "outputs": [
    {
     "data": {
      "text/plain": [
       "Aircraft.Category\n",
       "Airplane    879\n",
       "Name: count, dtype: int64"
      ]
     },
     "execution_count": 78,
     "metadata": {},
     "output_type": "execute_result"
    }
   ],
   "source": [
    "df3['Aircraft.Category'].value_counts()"
   ]
  },
  {
   "cell_type": "code",
   "execution_count": 79,
   "metadata": {},
   "outputs": [
    {
     "data": {
      "text/plain": [
       "Amateur.Built\n",
       "No     847\n",
       "Yes     26\n",
       "Name: count, dtype: int64"
      ]
     },
     "execution_count": 79,
     "metadata": {},
     "output_type": "execute_result"
    }
   ],
   "source": [
    "df3['Amateur.Built'].value_counts()"
   ]
  },
  {
   "cell_type": "markdown",
   "metadata": {},
   "source": [
    "`Amateur.Built` aircraft is not a field we will be considering at this time."
   ]
  },
  {
   "cell_type": "code",
   "execution_count": 80,
   "metadata": {},
   "outputs": [],
   "source": [
    "df4 = df3[df3['Amateur.Built'] == 'No']"
   ]
  },
  {
   "cell_type": "markdown",
   "metadata": {},
   "source": [
    "Create new dataframe that only contains entries that have more than one engine, as having 2 engines results in a 66% reduction of incidents."
   ]
  },
  {
   "cell_type": "code",
   "execution_count": 81,
   "metadata": {},
   "outputs": [],
   "source": [
    "df5 = df4[df4['Number.of.Engines'] > 1]"
   ]
  },
  {
   "cell_type": "code",
   "execution_count": 82,
   "metadata": {},
   "outputs": [],
   "source": [
    "pd.set_option('display.max_columns', None)\n",
    "pd.set_option('display.max_rows', None)"
   ]
  },
  {
   "cell_type": "markdown",
   "metadata": {},
   "source": [
    "Reset the index so `info()` properly counts the amount of entries"
   ]
  },
  {
   "cell_type": "code",
   "execution_count": 83,
   "metadata": {},
   "outputs": [],
   "source": [
    "df5 = df5.reset_index()"
   ]
  },
  {
   "cell_type": "code",
   "execution_count": 84,
   "metadata": {},
   "outputs": [
    {
     "name": "stdout",
     "output_type": "stream",
     "text": [
      "<class 'pandas.core.frame.DataFrame'>\n",
      "RangeIndex: 395 entries, 0 to 394\n",
      "Data columns (total 34 columns):\n",
      " #   Column                  Non-Null Count  Dtype         \n",
      "---  ------                  --------------  -----         \n",
      " 0   index                   395 non-null    int64         \n",
      " 1   Event.Id                395 non-null    object        \n",
      " 2   Investigation.Type      395 non-null    object        \n",
      " 3   Accident.Number         395 non-null    object        \n",
      " 4   Event.Date              395 non-null    datetime64[ns]\n",
      " 5   Location                395 non-null    object        \n",
      " 6   Country                 395 non-null    object        \n",
      " 7   Latitude                214 non-null    object        \n",
      " 8   Longitude               214 non-null    object        \n",
      " 9   Airport.Code            305 non-null    object        \n",
      " 10  Airport.Name            317 non-null    object        \n",
      " 11  Injury.Severity         331 non-null    object        \n",
      " 12  Aircraft.damage         395 non-null    object        \n",
      " 13  Aircraft.Category       395 non-null    object        \n",
      " 14  Registration.Number     389 non-null    object        \n",
      " 15  Make                    395 non-null    object        \n",
      " 16  Model                   393 non-null    object        \n",
      " 17  Amateur.Built           395 non-null    object        \n",
      " 18  Number.of.Engines       395 non-null    float64       \n",
      " 19  Engine.Type             303 non-null    object        \n",
      " 20  FAR.Description         381 non-null    object        \n",
      " 21  Purpose.of.flight       126 non-null    object        \n",
      " 22  Air.carrier             322 non-null    object        \n",
      " 23  Total.Fatal.Injuries    395 non-null    float64       \n",
      " 24  Total.Serious.Injuries  395 non-null    float64       \n",
      " 25  Total.Minor.Injuries    395 non-null    float64       \n",
      " 26  Total.Uninjured         392 non-null    float64       \n",
      " 27  Weather.Condition       246 non-null    object        \n",
      " 28  Broad.phase.of.flight   88 non-null     object        \n",
      " 29  Report.Status           274 non-null    object        \n",
      " 30  Publication.Date        374 non-null    object        \n",
      " 31  year                    395 non-null    int32         \n",
      " 32  Total_Injuries          395 non-null    float64       \n",
      " 33  Total_Non_Fatal         395 non-null    float64       \n",
      "dtypes: datetime64[ns](1), float64(7), int32(1), int64(1), object(24)\n",
      "memory usage: 103.5+ KB\n"
     ]
    }
   ],
   "source": [
    "df5.info()"
   ]
  },
  {
   "cell_type": "code",
   "execution_count": 85,
   "metadata": {},
   "outputs": [],
   "source": [
    "df5.drop('index', axis = 1, inplace = True)"
   ]
  },
  {
   "cell_type": "markdown",
   "metadata": {},
   "source": [
    "## Dictionary"
   ]
  },
  {
   "cell_type": "markdown",
   "metadata": {},
   "source": [
    "At this point, i looked into the top performing planes to gather the rest of my information. \n",
    "\n",
    "Here is a dictionary that holds each recommendation and information on each recommendation."
   ]
  },
  {
   "cell_type": "code",
   "execution_count": 86,
   "metadata": {},
   "outputs": [],
   "source": [
    "recs = {\n",
    "'primary_rec' : {'primary_rec': 'Airbus a330', \n",
    "             'size' : 'medium', \n",
    "             'engine type' : '2 turbo fans', \n",
    "             'capacity' : '220 - 260', \n",
    "             'reasons' : 'the Airbus a330 is smaller then the B747, with only 2 engines, allwoing it to be quiter then the B747, as well as extremely safe.', \n",
    "             'still in production' : 'yes', \n",
    "             'Airbus percent of fatalities vs all entries' : airbus_percent_of_deaths,\n",
    "             'Airbus flights fatality rate' : airbus_fatality_rate,\n",
    "             'total percent of entries vs all entries' : airbus_total_rate,\n",
    "             'number of exits' : '8'},\n",
    "\n",
    "'secondary_rec' : {'secondary_rec': 'B747', \n",
    "                 'size': 'largest Boeing produces', \n",
    "                 'engine type': '4 turbo fans', \n",
    "                 'capacity' : '276 - 467', \n",
    "                 'reasons' : 'B747 has been choosen to be the secondary recommendation mainly due to the fact it has 4 engines instead of 2. while this allows for more redundancy, a common complaint among passengers is how loud the aircraft actually is. it boasts very good safety records.', \n",
    "                 'still in production': 'no',\n",
    "                 'Boeing percent of fatlities vs all entries' : boeing_percent_of_deaths,\n",
    "                 'Boeing flights fatality rate' : boeing_fatality_rate,\n",
    "                 'total percent of entries vs all entries' : boeing_total_rate,\n",
    "                 'number of exits' : '9'},\n",
    "\n",
    "'third_rec' : {'third_rec' : 'Cessna Latitude', \n",
    "             'size' : 'small business jet', \n",
    "             'engine type' : '2 turbo fans', \n",
    "             'capacity' : 'max 9', \n",
    "             'reasons' : 'The Cessna Latitude is extremely safe and is also the most popular for personal / business ventures in the Cessna family.', \n",
    "             'still in production' : 'yes',\n",
    "             'Cessna percent of fatalities vs all entries' : cessna_percent_of_deaths,\n",
    "             'Cessna flights fatality rate' : cessna_fatality_rate,\n",
    "             'total percent of entries vs all entries' : cessna_total_rate,\n",
    "             'number of exits' : '1'}\n",
    "}"
   ]
  },
  {
   "cell_type": "code",
   "execution_count": 87,
   "metadata": {},
   "outputs": [
    {
     "data": {
      "text/plain": [
       "{'primary_rec': 'Airbus a330',\n",
       " 'size': 'medium',\n",
       " 'engine type': '2 turbo fans',\n",
       " 'capacity': '220 - 260',\n",
       " 'reasons': 'the Airbus a330 is smaller then the B747, with only 2 engines, allwoing it to be quiter then the B747, as well as extremely safe.',\n",
       " 'still in production': 'yes',\n",
       " 'Airbus percent of fatalities vs all entries': '4.98 % of total deaths',\n",
       " 'Airbus flights fatality rate': '0.15 % of incidents result in at least 1 death',\n",
       " 'total percent of entries vs all entries': 'out of 88889 entries, Airbus is 0.51 % (455) of entries',\n",
       " 'number of exits': '8'}"
      ]
     },
     "execution_count": 87,
     "metadata": {},
     "output_type": "execute_result"
    }
   ],
   "source": [
    "recs['primary_rec']"
   ]
  },
  {
   "cell_type": "code",
   "execution_count": 88,
   "metadata": {},
   "outputs": [
    {
     "data": {
      "text/plain": [
       "{'secondary_rec': 'B747',\n",
       " 'size': 'largest Boeing produces',\n",
       " 'engine type': '4 turbo fans',\n",
       " 'capacity': '276 - 467',\n",
       " 'reasons': 'B747 has been choosen to be the secondary recommendation mainly due to the fact it has 4 engines instead of 2. while this allows for more redundancy, a common complaint among passengers is how loud the aircraft actually is. it boasts very good safety records.',\n",
       " 'still in production': 'no',\n",
       " 'Boeing percent of fatlities vs all entries': '17.43 % of total deaths',\n",
       " 'Boeing flights fatality rate': '0.94 % of incidents result in at least 1 death',\n",
       " 'total percent of entries vs all entries': 'out of 88889 entries, Boeing is 3.1 % (2753) of entries',\n",
       " 'number of exits': '9'}"
      ]
     },
     "execution_count": 88,
     "metadata": {},
     "output_type": "execute_result"
    }
   ],
   "source": [
    "recs['secondary_rec']"
   ]
  },
  {
   "cell_type": "code",
   "execution_count": 89,
   "metadata": {
    "scrolled": true
   },
   "outputs": [
    {
     "data": {
      "text/plain": [
       "{'third_rec': 'Cessna Latitude',\n",
       " 'size': 'small business jet',\n",
       " 'engine type': '2 turbo fans',\n",
       " 'capacity': 'max 9',\n",
       " 'reasons': 'The Cessna Latitude is extremely safe and is also the most popular for personal / business ventures in the Cessna family.',\n",
       " 'still in production': 'yes',\n",
       " 'Cessna percent of fatalities vs all entries': '19.23 % of total deaths',\n",
       " 'Cessna flights fatality rate': '26.06 % of incidents result in at least 1 death',\n",
       " 'total percent of entries vs all entries': 'out of 88889 entries, Cessna is 30.55 % (27158) of entries',\n",
       " 'number of exits': '1'}"
      ]
     },
     "execution_count": 89,
     "metadata": {},
     "output_type": "execute_result"
    }
   ],
   "source": [
    "recs['third_rec']"
   ]
  },
  {
   "cell_type": "code",
   "execution_count": 90,
   "metadata": {},
   "outputs": [],
   "source": [
    "df1.to_csv('df1.csv')"
   ]
  },
  {
   "cell_type": "markdown",
   "metadata": {},
   "source": [
    "# Metrics Results "
   ]
  },
  {
   "cell_type": "markdown",
   "metadata": {},
   "source": [
    "## Engine Type"
   ]
  },
  {
   "cell_type": "markdown",
   "metadata": {},
   "source": [
    "For engine type, we compaired turbo fan, turbo shaft and turbo jet. Using graphs we cn see that turbo shaft is significantly worse when it comes to entries in this dataset. Turbo fan and turbo jet both seem to be fair choices when it comes to engine type."
   ]
  },
  {
   "cell_type": "markdown",
   "metadata": {},
   "source": [
    "## Purpose of Flight"
   ]
  },
  {
   "cell_type": "markdown",
   "metadata": {},
   "source": [
    "Executive / corporate and business are leagues ahead of personal flights when it comes to safety. Commercial aircraft appear to be the safest due to the fact they utilize bigger aircraft, professional crews as well as better instraments within the cabin allowing for easier flight when in aggressive weather. "
   ]
  },
  {
   "cell_type": "markdown",
   "metadata": {},
   "source": [
    "## Engine Count"
   ]
  },
  {
   "cell_type": "markdown",
   "metadata": {},
   "source": [
    "Increasing the aircrafts engine count from 1 to 2 results in a 66 % reduction in reported incidents. Adding an engine does have some trade offs though, primarily fuel consumption as well as weight added to the aircraft, however these cons seem well worth it for thatv major boos in safety and redundancey. "
   ]
  },
  {
   "cell_type": "markdown",
   "metadata": {},
   "source": [
    "# CONCLUSION"
   ]
  },
  {
   "cell_type": "markdown",
   "metadata": {},
   "source": [
    "## Primary Recommendation:\n",
    "\n",
    "I recommend the Airbus 330 as the primary candidate. This is due to the fact the aircraft boasts an extremely low incident rate being only 0.51% of entries within the NTSB data sheet, and out of those incidents, only 0.15% of incidents result in a fatality. The aircraft has a dual turbo engine allowing for redundancy and can hold a maximum of 260 passengers, placing this aircraft in the medium size category.  \n",
    "\n",
    "## Secondary Recommendation:\n",
    "\n",
    "The Boeing 747 takes second place, with a moderate 3.1% incident rate within the NTSB data sheet. This aircraft does have quad turbo fans, allowing for extremely good redundancy, with the trade off of consuming more fuel. This aircraft is placed in the large category, holding a maximum of 467 passengers.\n",
    "\n",
    "## Tertiary Recommendation:\n",
    "\n",
    "The Cessna Latitude is a great aircraft for personal / private jet use. It has dual turbo fan engines and a maximum capacity of 9. While some other brands had better stats shown above in the graphs comparing brands, the Cessna latitude has the rare accolade of having zero reported fatalities."
   ]
  }
 ],
 "metadata": {
  "kernelspec": {
   "display_name": "Python 3",
   "language": "python",
   "name": "python3"
  },
  "language_info": {
   "codemirror_mode": {
    "name": "ipython",
    "version": 3
   },
   "file_extension": ".py",
   "mimetype": "text/x-python",
   "name": "python",
   "nbconvert_exporter": "python",
   "pygments_lexer": "ipython3",
   "version": "3.8.5"
  }
 },
 "nbformat": 4,
 "nbformat_minor": 4
}
